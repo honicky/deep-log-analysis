{
 "cells": [
  {
   "cell_type": "markdown",
   "metadata": {},
   "source": [
    "# Pythia Analysis - train small models on HDFS data\n",
    "\n",
    "* use tokenized version of preprocessed HDFS events\n",
    "* start with very small pythia models, test increasing size\n",
    "* start with fine-tuning, then consider resetting weights and training from scratch\n",
    "* experiment with different tokenizers\n",
    "  * https://chatgpt.com/share/67448f53-29a0-800f-9913-af22d6ed0894\n"
   ]
  },
  {
   "cell_type": "code",
   "execution_count": 1,
   "metadata": {},
   "outputs": [
    {
     "name": "stdout",
     "output_type": "stream",
     "text": [
      "Requirement already satisfied: transformers in ./venv/lib/python3.11/site-packages (4.46.3)\n",
      "Requirement already satisfied: torch in ./venv/lib/python3.11/site-packages (2.5.1)\n",
      "Requirement already satisfied: torchvision in ./venv/lib/python3.11/site-packages (0.20.1)\n",
      "Requirement already satisfied: torchaudio in ./venv/lib/python3.11/site-packages (2.5.1)\n",
      "Requirement already satisfied: wandb in ./venv/lib/python3.11/site-packages (0.18.7)\n",
      "Requirement already satisfied: python-dotenv in ./venv/lib/python3.11/site-packages (1.0.1)\n",
      "Requirement already satisfied: filelock in ./venv/lib/python3.11/site-packages (from transformers) (3.16.1)\n",
      "Requirement already satisfied: huggingface-hub<1.0,>=0.23.2 in ./venv/lib/python3.11/site-packages (from transformers) (0.26.2)\n",
      "Requirement already satisfied: numpy>=1.17 in ./venv/lib/python3.11/site-packages (from transformers) (2.1.3)\n",
      "Requirement already satisfied: packaging>=20.0 in ./venv/lib/python3.11/site-packages (from transformers) (24.2)\n",
      "Requirement already satisfied: pyyaml>=5.1 in ./venv/lib/python3.11/site-packages (from transformers) (6.0.2)\n",
      "Requirement already satisfied: regex!=2019.12.17 in ./venv/lib/python3.11/site-packages (from transformers) (2022.3.2)\n",
      "Requirement already satisfied: requests in ./venv/lib/python3.11/site-packages (from transformers) (2.32.3)\n",
      "Requirement already satisfied: tokenizers<0.21,>=0.20 in ./venv/lib/python3.11/site-packages (from transformers) (0.20.3)\n",
      "Requirement already satisfied: safetensors>=0.4.1 in ./venv/lib/python3.11/site-packages (from transformers) (0.4.5)\n",
      "Requirement already satisfied: tqdm>=4.27 in ./venv/lib/python3.11/site-packages (from transformers) (4.67.0)\n",
      "Requirement already satisfied: typing-extensions>=4.8.0 in ./venv/lib/python3.11/site-packages (from torch) (4.12.2)\n",
      "Requirement already satisfied: networkx in ./venv/lib/python3.11/site-packages (from torch) (3.4.2)\n",
      "Requirement already satisfied: jinja2 in ./venv/lib/python3.11/site-packages (from torch) (3.1.4)\n",
      "Requirement already satisfied: fsspec in ./venv/lib/python3.11/site-packages (from torch) (2024.10.0)\n",
      "Requirement already satisfied: sympy==1.13.1 in ./venv/lib/python3.11/site-packages (from torch) (1.13.1)\n",
      "Requirement already satisfied: mpmath<1.4,>=1.1.0 in ./venv/lib/python3.11/site-packages (from sympy==1.13.1->torch) (1.3.0)\n",
      "Requirement already satisfied: pillow!=8.3.*,>=5.3.0 in ./venv/lib/python3.11/site-packages (from torchvision) (11.0.0)\n",
      "Requirement already satisfied: click!=8.0.0,>=7.1 in ./venv/lib/python3.11/site-packages (from wandb) (8.1.7)\n",
      "Requirement already satisfied: docker-pycreds>=0.4.0 in ./venv/lib/python3.11/site-packages (from wandb) (0.4.0)\n",
      "Requirement already satisfied: gitpython!=3.1.29,>=1.0.0 in ./venv/lib/python3.11/site-packages (from wandb) (3.1.43)\n",
      "Requirement already satisfied: platformdirs in ./venv/lib/python3.11/site-packages (from wandb) (4.3.6)\n",
      "Requirement already satisfied: protobuf!=4.21.0,!=5.28.0,<6,>=3.19.0 in ./venv/lib/python3.11/site-packages (from wandb) (5.29.0)\n",
      "Requirement already satisfied: psutil>=5.0.0 in ./venv/lib/python3.11/site-packages (from wandb) (6.1.0)\n",
      "Requirement already satisfied: sentry-sdk>=2.0.0 in ./venv/lib/python3.11/site-packages (from wandb) (2.19.0)\n",
      "Requirement already satisfied: setproctitle in ./venv/lib/python3.11/site-packages (from wandb) (1.3.4)\n",
      "Requirement already satisfied: setuptools in ./venv/lib/python3.11/site-packages (from wandb) (74.1.2)\n",
      "Requirement already satisfied: six>=1.4.0 in ./venv/lib/python3.11/site-packages (from docker-pycreds>=0.4.0->wandb) (1.16.0)\n",
      "Requirement already satisfied: gitdb<5,>=4.0.1 in ./venv/lib/python3.11/site-packages (from gitpython!=3.1.29,>=1.0.0->wandb) (4.0.11)\n",
      "Requirement already satisfied: charset-normalizer<4,>=2 in ./venv/lib/python3.11/site-packages (from requests->transformers) (3.4.0)\n",
      "Requirement already satisfied: idna<4,>=2.5 in ./venv/lib/python3.11/site-packages (from requests->transformers) (3.10)\n",
      "Requirement already satisfied: urllib3<3,>=1.21.1 in ./venv/lib/python3.11/site-packages (from requests->transformers) (2.2.3)\n",
      "Requirement already satisfied: certifi>=2017.4.17 in ./venv/lib/python3.11/site-packages (from requests->transformers) (2024.8.30)\n",
      "Requirement already satisfied: MarkupSafe>=2.0 in ./venv/lib/python3.11/site-packages (from jinja2->torch) (3.0.2)\n",
      "Requirement already satisfied: smmap<6,>=3.0.1 in ./venv/lib/python3.11/site-packages (from gitdb<5,>=4.0.1->gitpython!=3.1.29,>=1.0.0->wandb) (5.0.1)\n",
      "\n",
      "\u001b[1m[\u001b[0m\u001b[34;49mnotice\u001b[0m\u001b[1;39;49m]\u001b[0m\u001b[39;49m A new release of pip is available: \u001b[0m\u001b[31;49m24.2\u001b[0m\u001b[39;49m -> \u001b[0m\u001b[32;49m24.3.1\u001b[0m\n",
      "\u001b[1m[\u001b[0m\u001b[34;49mnotice\u001b[0m\u001b[1;39;49m]\u001b[0m\u001b[39;49m To update, run: \u001b[0m\u001b[32;49mpip install --upgrade pip\u001b[0m\n",
      "Note: you may need to restart the kernel to use updated packages.\n"
     ]
    }
   ],
   "source": [
    "try:\n",
    "    import logparser.Drain as Drain\n",
    "except ImportError:\n",
    "    %pip install requests git+https://github.com/logpai/logparser\n",
    "\n",
    "%pip install transformers torch torchvision torchaudio wandb python-dotenv"
   ]
  },
  {
   "cell_type": "code",
   "execution_count": 2,
   "metadata": {},
   "outputs": [],
   "source": [
    "import logparser.Drain as Drain\n"
   ]
  },
  {
   "cell_type": "code",
   "execution_count": 3,
   "metadata": {},
   "outputs": [],
   "source": [
    "%load_ext autoreload\n",
    "%autoreload 2\n",
    "import dataloaders as dl\n"
   ]
  },
  {
   "cell_type": "markdown",
   "metadata": {},
   "source": [
    "# Download and unzip the HDFS dataset\n",
    "\n",
    "The functions check if the data is already downloaded and unzipped, and only download and unzip if they are not present.\n"
   ]
  },
  {
   "cell_type": "code",
   "execution_count": 4,
   "metadata": {},
   "outputs": [],
   "source": [
    "\n",
    "dl.download_data(dl.datasets[\"HDFS\"][\"url\"], dl.datasets[\"HDFS\"][\"zip_file_name\"])\n",
    "dl.unzip_data(dl.datasets[\"HDFS\"][\"zip_file_name\"], dl.datasets[\"HDFS\"][\"file_name\"])"
   ]
  },
  {
   "cell_type": "code",
   "execution_count": 5,
   "metadata": {},
   "outputs": [
    {
     "data": {
      "text/html": [
       "<div>\n",
       "<style scoped>\n",
       "    .dataframe tbody tr th:only-of-type {\n",
       "        vertical-align: middle;\n",
       "    }\n",
       "\n",
       "    .dataframe tbody tr th {\n",
       "        vertical-align: top;\n",
       "    }\n",
       "\n",
       "    .dataframe thead th {\n",
       "        text-align: right;\n",
       "    }\n",
       "</style>\n",
       "<table border=\"1\" class=\"dataframe\">\n",
       "  <thead>\n",
       "    <tr style=\"text-align: right;\">\n",
       "      <th></th>\n",
       "      <th>LineId</th>\n",
       "      <th>Date</th>\n",
       "      <th>Time</th>\n",
       "      <th>Pid</th>\n",
       "      <th>Level</th>\n",
       "      <th>Component</th>\n",
       "      <th>Content</th>\n",
       "      <th>EventId</th>\n",
       "      <th>EventTemplate</th>\n",
       "      <th>ParameterList</th>\n",
       "    </tr>\n",
       "  </thead>\n",
       "  <tbody>\n",
       "    <tr>\n",
       "      <th>0</th>\n",
       "      <td>1</td>\n",
       "      <td>81109</td>\n",
       "      <td>203518</td>\n",
       "      <td>143</td>\n",
       "      <td>INFO</td>\n",
       "      <td>dfs.DataNode$DataXceiver</td>\n",
       "      <td>Receiving block blk_-1608999687919862906 src: ...</td>\n",
       "      <td>09a53393</td>\n",
       "      <td>Receiving block &lt;*&gt; src: &lt;*&gt; dest: &lt;*&gt;</td>\n",
       "      <td>['blk_-1608999687919862906', '/10.250.19.102:5...</td>\n",
       "    </tr>\n",
       "    <tr>\n",
       "      <th>1</th>\n",
       "      <td>2</td>\n",
       "      <td>81109</td>\n",
       "      <td>203518</td>\n",
       "      <td>35</td>\n",
       "      <td>INFO</td>\n",
       "      <td>dfs.FSNamesystem</td>\n",
       "      <td>BLOCK* NameSystem.allocateBlock: /mnt/hadoop/m...</td>\n",
       "      <td>3d91fa85</td>\n",
       "      <td>BLOCK* NameSystem.allocateBlock: &lt;*&gt; &lt;*&gt;</td>\n",
       "      <td>['/mnt/hadoop/mapred/system/job_200811092030_0...</td>\n",
       "    </tr>\n",
       "    <tr>\n",
       "      <th>2</th>\n",
       "      <td>3</td>\n",
       "      <td>81109</td>\n",
       "      <td>203519</td>\n",
       "      <td>143</td>\n",
       "      <td>INFO</td>\n",
       "      <td>dfs.DataNode$DataXceiver</td>\n",
       "      <td>Receiving block blk_-1608999687919862906 src: ...</td>\n",
       "      <td>09a53393</td>\n",
       "      <td>Receiving block &lt;*&gt; src: &lt;*&gt; dest: &lt;*&gt;</td>\n",
       "      <td>['blk_-1608999687919862906', '/10.250.10.6:405...</td>\n",
       "    </tr>\n",
       "    <tr>\n",
       "      <th>3</th>\n",
       "      <td>4</td>\n",
       "      <td>81109</td>\n",
       "      <td>203519</td>\n",
       "      <td>145</td>\n",
       "      <td>INFO</td>\n",
       "      <td>dfs.DataNode$DataXceiver</td>\n",
       "      <td>Receiving block blk_-1608999687919862906 src: ...</td>\n",
       "      <td>09a53393</td>\n",
       "      <td>Receiving block &lt;*&gt; src: &lt;*&gt; dest: &lt;*&gt;</td>\n",
       "      <td>['blk_-1608999687919862906', '/10.250.14.224:4...</td>\n",
       "    </tr>\n",
       "    <tr>\n",
       "      <th>4</th>\n",
       "      <td>5</td>\n",
       "      <td>81109</td>\n",
       "      <td>203519</td>\n",
       "      <td>145</td>\n",
       "      <td>INFO</td>\n",
       "      <td>dfs.DataNode$PacketResponder</td>\n",
       "      <td>PacketResponder 1 for block blk_-1608999687919...</td>\n",
       "      <td>d38aa58d</td>\n",
       "      <td>PacketResponder &lt;*&gt; for block &lt;*&gt; &lt;*&gt;</td>\n",
       "      <td>['1', 'blk_-1608999687919862906 terminating']</td>\n",
       "    </tr>\n",
       "  </tbody>\n",
       "</table>\n",
       "</div>"
      ],
      "text/plain": [
       "   LineId   Date    Time  Pid Level                     Component  \\\n",
       "0       1  81109  203518  143  INFO      dfs.DataNode$DataXceiver   \n",
       "1       2  81109  203518   35  INFO              dfs.FSNamesystem   \n",
       "2       3  81109  203519  143  INFO      dfs.DataNode$DataXceiver   \n",
       "3       4  81109  203519  145  INFO      dfs.DataNode$DataXceiver   \n",
       "4       5  81109  203519  145  INFO  dfs.DataNode$PacketResponder   \n",
       "\n",
       "                                             Content   EventId  \\\n",
       "0  Receiving block blk_-1608999687919862906 src: ...  09a53393   \n",
       "1  BLOCK* NameSystem.allocateBlock: /mnt/hadoop/m...  3d91fa85   \n",
       "2  Receiving block blk_-1608999687919862906 src: ...  09a53393   \n",
       "3  Receiving block blk_-1608999687919862906 src: ...  09a53393   \n",
       "4  PacketResponder 1 for block blk_-1608999687919...  d38aa58d   \n",
       "\n",
       "                              EventTemplate  \\\n",
       "0    Receiving block <*> src: <*> dest: <*>   \n",
       "1  BLOCK* NameSystem.allocateBlock: <*> <*>   \n",
       "2    Receiving block <*> src: <*> dest: <*>   \n",
       "3    Receiving block <*> src: <*> dest: <*>   \n",
       "4     PacketResponder <*> for block <*> <*>   \n",
       "\n",
       "                                       ParameterList  \n",
       "0  ['blk_-1608999687919862906', '/10.250.19.102:5...  \n",
       "1  ['/mnt/hadoop/mapred/system/job_200811092030_0...  \n",
       "2  ['blk_-1608999687919862906', '/10.250.10.6:405...  \n",
       "3  ['blk_-1608999687919862906', '/10.250.14.224:4...  \n",
       "4      ['1', 'blk_-1608999687919862906 terminating']  "
      ]
     },
     "execution_count": 5,
     "metadata": {},
     "output_type": "execute_result"
    }
   ],
   "source": [
    "import pandas as pd\n",
    "\n",
    "structured_file_path = dl.parse_dataset(\"HDFS\")\n",
    "\n",
    "structured_df = pd.read_csv(structured_file_path)\n",
    "structured_df.head()\n"
   ]
  },
  {
   "cell_type": "markdown",
   "metadata": {},
   "source": [
    "# Parse out the block id"
   ]
  },
  {
   "cell_type": "code",
   "execution_count": 6,
   "metadata": {},
   "outputs": [
    {
     "data": {
      "text/html": [
       "<div>\n",
       "<style scoped>\n",
       "    .dataframe tbody tr th:only-of-type {\n",
       "        vertical-align: middle;\n",
       "    }\n",
       "\n",
       "    .dataframe tbody tr th {\n",
       "        vertical-align: top;\n",
       "    }\n",
       "\n",
       "    .dataframe thead th {\n",
       "        text-align: right;\n",
       "    }\n",
       "</style>\n",
       "<table border=\"1\" class=\"dataframe\">\n",
       "  <thead>\n",
       "    <tr style=\"text-align: right;\">\n",
       "      <th></th>\n",
       "      <th>LineId</th>\n",
       "      <th>Date</th>\n",
       "      <th>Time</th>\n",
       "      <th>Pid</th>\n",
       "      <th>Level</th>\n",
       "      <th>Component</th>\n",
       "      <th>Content</th>\n",
       "      <th>EventId</th>\n",
       "      <th>EventTemplate</th>\n",
       "      <th>ParameterList</th>\n",
       "      <th>BlockId</th>\n",
       "    </tr>\n",
       "  </thead>\n",
       "  <tbody>\n",
       "    <tr>\n",
       "      <th>0</th>\n",
       "      <td>1</td>\n",
       "      <td>81109</td>\n",
       "      <td>203518</td>\n",
       "      <td>143</td>\n",
       "      <td>INFO</td>\n",
       "      <td>dfs.DataNode$DataXceiver</td>\n",
       "      <td>Receiving block blk_-1608999687919862906 src: ...</td>\n",
       "      <td>09a53393</td>\n",
       "      <td>Receiving block &lt;*&gt; src: &lt;*&gt; dest: &lt;*&gt;</td>\n",
       "      <td>['blk_-1608999687919862906', '/10.250.19.102:5...</td>\n",
       "      <td>blk_-1608999687919862906</td>\n",
       "    </tr>\n",
       "    <tr>\n",
       "      <th>1</th>\n",
       "      <td>2</td>\n",
       "      <td>81109</td>\n",
       "      <td>203518</td>\n",
       "      <td>35</td>\n",
       "      <td>INFO</td>\n",
       "      <td>dfs.FSNamesystem</td>\n",
       "      <td>BLOCK* NameSystem.allocateBlock: /mnt/hadoop/m...</td>\n",
       "      <td>3d91fa85</td>\n",
       "      <td>BLOCK* NameSystem.allocateBlock: &lt;*&gt; &lt;*&gt;</td>\n",
       "      <td>['/mnt/hadoop/mapred/system/job_200811092030_0...</td>\n",
       "      <td>blk_-1608999687919862906</td>\n",
       "    </tr>\n",
       "    <tr>\n",
       "      <th>2</th>\n",
       "      <td>3</td>\n",
       "      <td>81109</td>\n",
       "      <td>203519</td>\n",
       "      <td>143</td>\n",
       "      <td>INFO</td>\n",
       "      <td>dfs.DataNode$DataXceiver</td>\n",
       "      <td>Receiving block blk_-1608999687919862906 src: ...</td>\n",
       "      <td>09a53393</td>\n",
       "      <td>Receiving block &lt;*&gt; src: &lt;*&gt; dest: &lt;*&gt;</td>\n",
       "      <td>['blk_-1608999687919862906', '/10.250.10.6:405...</td>\n",
       "      <td>blk_-1608999687919862906</td>\n",
       "    </tr>\n",
       "    <tr>\n",
       "      <th>3</th>\n",
       "      <td>4</td>\n",
       "      <td>81109</td>\n",
       "      <td>203519</td>\n",
       "      <td>145</td>\n",
       "      <td>INFO</td>\n",
       "      <td>dfs.DataNode$DataXceiver</td>\n",
       "      <td>Receiving block blk_-1608999687919862906 src: ...</td>\n",
       "      <td>09a53393</td>\n",
       "      <td>Receiving block &lt;*&gt; src: &lt;*&gt; dest: &lt;*&gt;</td>\n",
       "      <td>['blk_-1608999687919862906', '/10.250.14.224:4...</td>\n",
       "      <td>blk_-1608999687919862906</td>\n",
       "    </tr>\n",
       "    <tr>\n",
       "      <th>4</th>\n",
       "      <td>5</td>\n",
       "      <td>81109</td>\n",
       "      <td>203519</td>\n",
       "      <td>145</td>\n",
       "      <td>INFO</td>\n",
       "      <td>dfs.DataNode$PacketResponder</td>\n",
       "      <td>PacketResponder 1 for block blk_-1608999687919...</td>\n",
       "      <td>d38aa58d</td>\n",
       "      <td>PacketResponder &lt;*&gt; for block &lt;*&gt; &lt;*&gt;</td>\n",
       "      <td>['1', 'blk_-1608999687919862906 terminating']</td>\n",
       "      <td>blk_-1608999687919862906</td>\n",
       "    </tr>\n",
       "  </tbody>\n",
       "</table>\n",
       "</div>"
      ],
      "text/plain": [
       "   LineId   Date    Time  Pid Level                     Component  \\\n",
       "0       1  81109  203518  143  INFO      dfs.DataNode$DataXceiver   \n",
       "1       2  81109  203518   35  INFO              dfs.FSNamesystem   \n",
       "2       3  81109  203519  143  INFO      dfs.DataNode$DataXceiver   \n",
       "3       4  81109  203519  145  INFO      dfs.DataNode$DataXceiver   \n",
       "4       5  81109  203519  145  INFO  dfs.DataNode$PacketResponder   \n",
       "\n",
       "                                             Content   EventId  \\\n",
       "0  Receiving block blk_-1608999687919862906 src: ...  09a53393   \n",
       "1  BLOCK* NameSystem.allocateBlock: /mnt/hadoop/m...  3d91fa85   \n",
       "2  Receiving block blk_-1608999687919862906 src: ...  09a53393   \n",
       "3  Receiving block blk_-1608999687919862906 src: ...  09a53393   \n",
       "4  PacketResponder 1 for block blk_-1608999687919...  d38aa58d   \n",
       "\n",
       "                              EventTemplate  \\\n",
       "0    Receiving block <*> src: <*> dest: <*>   \n",
       "1  BLOCK* NameSystem.allocateBlock: <*> <*>   \n",
       "2    Receiving block <*> src: <*> dest: <*>   \n",
       "3    Receiving block <*> src: <*> dest: <*>   \n",
       "4     PacketResponder <*> for block <*> <*>   \n",
       "\n",
       "                                       ParameterList                   BlockId  \n",
       "0  ['blk_-1608999687919862906', '/10.250.19.102:5...  blk_-1608999687919862906  \n",
       "1  ['/mnt/hadoop/mapred/system/job_200811092030_0...  blk_-1608999687919862906  \n",
       "2  ['blk_-1608999687919862906', '/10.250.10.6:405...  blk_-1608999687919862906  \n",
       "3  ['blk_-1608999687919862906', '/10.250.14.224:4...  blk_-1608999687919862906  \n",
       "4      ['1', 'blk_-1608999687919862906 terminating']  blk_-1608999687919862906  "
      ]
     },
     "execution_count": 6,
     "metadata": {},
     "output_type": "execute_result"
    }
   ],
   "source": [
    "dl.add_hdfs_blockid_column(structured_df)\n",
    "structured_df.head()\n"
   ]
  },
  {
   "cell_type": "markdown",
   "metadata": {},
   "source": [
    "# Load the block labels"
   ]
  },
  {
   "cell_type": "code",
   "execution_count": 7,
   "metadata": {},
   "outputs": [
    {
     "data": {
      "text/html": [
       "<div>\n",
       "<style scoped>\n",
       "    .dataframe tbody tr th:only-of-type {\n",
       "        vertical-align: middle;\n",
       "    }\n",
       "\n",
       "    .dataframe tbody tr th {\n",
       "        vertical-align: top;\n",
       "    }\n",
       "\n",
       "    .dataframe thead th {\n",
       "        text-align: right;\n",
       "    }\n",
       "</style>\n",
       "<table border=\"1\" class=\"dataframe\">\n",
       "  <thead>\n",
       "    <tr style=\"text-align: right;\">\n",
       "      <th></th>\n",
       "      <th>BlockId</th>\n",
       "      <th>Label</th>\n",
       "    </tr>\n",
       "  </thead>\n",
       "  <tbody>\n",
       "    <tr>\n",
       "      <th>0</th>\n",
       "      <td>blk_-1608999687919862906</td>\n",
       "      <td>Normal</td>\n",
       "    </tr>\n",
       "    <tr>\n",
       "      <th>1</th>\n",
       "      <td>blk_7503483334202473044</td>\n",
       "      <td>Normal</td>\n",
       "    </tr>\n",
       "    <tr>\n",
       "      <th>2</th>\n",
       "      <td>blk_-3544583377289625738</td>\n",
       "      <td>Anomaly</td>\n",
       "    </tr>\n",
       "    <tr>\n",
       "      <th>3</th>\n",
       "      <td>blk_-9073992586687739851</td>\n",
       "      <td>Normal</td>\n",
       "    </tr>\n",
       "    <tr>\n",
       "      <th>4</th>\n",
       "      <td>blk_7854771516489510256</td>\n",
       "      <td>Normal</td>\n",
       "    </tr>\n",
       "  </tbody>\n",
       "</table>\n",
       "</div>"
      ],
      "text/plain": [
       "                    BlockId    Label\n",
       "0  blk_-1608999687919862906   Normal\n",
       "1   blk_7503483334202473044   Normal\n",
       "2  blk_-3544583377289625738  Anomaly\n",
       "3  blk_-9073992586687739851   Normal\n",
       "4   blk_7854771516489510256   Normal"
      ]
     },
     "execution_count": 7,
     "metadata": {},
     "output_type": "execute_result"
    }
   ],
   "source": [
    "dl.unzip_data(dl.datasets[\"HDFS\"][\"zip_file_name\"],\"preprocessed/anomaly_label.csv\", base_dir=\"data/hdfs\" )\n",
    "\n",
    "anomaly_label_df = pd.read_csv(\"data/hdfs/preprocessed/anomaly_label.csv\")\n",
    "anomaly_label_df.head()\n"
   ]
  },
  {
   "cell_type": "markdown",
   "metadata": {},
   "source": [
    "# Parse the parameter list\n",
    "\n",
    "The parameter list is formatted as python code, so we need to use the `ast` library to parse it."
   ]
  },
  {
   "cell_type": "code",
   "execution_count": 8,
   "metadata": {},
   "outputs": [],
   "source": [
    "from ast import literal_eval\n",
    "\n",
    "structured_df['ParsedParameterList'] = structured_df.ParameterList.apply(literal_eval)\n"
   ]
  },
  {
   "cell_type": "code",
   "execution_count": 9,
   "metadata": {},
   "outputs": [],
   "source": [
    "event_id_mapping_pdf = (structured_df\n",
    " .EventId\n",
    " .value_counts()\n",
    " .reset_index()\n",
    " .reset_index()\n",
    " .rename(columns={\"index\":\"NewEventId\"})\n",
    " [[\"EventId\", \"NewEventId\"]]\n",
    ")"
   ]
  },
  {
   "cell_type": "code",
   "execution_count": 10,
   "metadata": {},
   "outputs": [
    {
     "data": {
      "text/html": [
       "<div>\n",
       "<style scoped>\n",
       "    .dataframe tbody tr th:only-of-type {\n",
       "        vertical-align: middle;\n",
       "    }\n",
       "\n",
       "    .dataframe tbody tr th {\n",
       "        vertical-align: top;\n",
       "    }\n",
       "\n",
       "    .dataframe thead th {\n",
       "        text-align: right;\n",
       "    }\n",
       "</style>\n",
       "<table border=\"1\" class=\"dataframe\">\n",
       "  <thead>\n",
       "    <tr style=\"text-align: right;\">\n",
       "      <th></th>\n",
       "      <th>LineId</th>\n",
       "      <th>Date</th>\n",
       "      <th>Time</th>\n",
       "      <th>Pid</th>\n",
       "      <th>Level</th>\n",
       "      <th>Component</th>\n",
       "      <th>Content</th>\n",
       "      <th>EventId</th>\n",
       "      <th>EventTemplate</th>\n",
       "      <th>ParameterList</th>\n",
       "      <th>BlockId</th>\n",
       "      <th>ParsedParameterList</th>\n",
       "      <th>NewEventId</th>\n",
       "    </tr>\n",
       "  </thead>\n",
       "  <tbody>\n",
       "    <tr>\n",
       "      <th>0</th>\n",
       "      <td>1</td>\n",
       "      <td>81109</td>\n",
       "      <td>203518</td>\n",
       "      <td>143</td>\n",
       "      <td>INFO</td>\n",
       "      <td>dfs.DataNode$DataXceiver</td>\n",
       "      <td>Receiving block blk_-1608999687919862906 src: ...</td>\n",
       "      <td>09a53393</td>\n",
       "      <td>Receiving block &lt;*&gt; src: &lt;*&gt; dest: &lt;*&gt;</td>\n",
       "      <td>['blk_-1608999687919862906', '/10.250.19.102:5...</td>\n",
       "      <td>blk_-1608999687919862906</td>\n",
       "      <td>[blk_-1608999687919862906, /10.250.19.102:5410...</td>\n",
       "      <td>0</td>\n",
       "    </tr>\n",
       "    <tr>\n",
       "      <th>1</th>\n",
       "      <td>2</td>\n",
       "      <td>81109</td>\n",
       "      <td>203518</td>\n",
       "      <td>35</td>\n",
       "      <td>INFO</td>\n",
       "      <td>dfs.FSNamesystem</td>\n",
       "      <td>BLOCK* NameSystem.allocateBlock: /mnt/hadoop/m...</td>\n",
       "      <td>3d91fa85</td>\n",
       "      <td>BLOCK* NameSystem.allocateBlock: &lt;*&gt; &lt;*&gt;</td>\n",
       "      <td>['/mnt/hadoop/mapred/system/job_200811092030_0...</td>\n",
       "      <td>blk_-1608999687919862906</td>\n",
       "      <td>[/mnt/hadoop/mapred/system/job_200811092030_00...</td>\n",
       "      <td>6</td>\n",
       "    </tr>\n",
       "    <tr>\n",
       "      <th>2</th>\n",
       "      <td>3</td>\n",
       "      <td>81109</td>\n",
       "      <td>203519</td>\n",
       "      <td>143</td>\n",
       "      <td>INFO</td>\n",
       "      <td>dfs.DataNode$DataXceiver</td>\n",
       "      <td>Receiving block blk_-1608999687919862906 src: ...</td>\n",
       "      <td>09a53393</td>\n",
       "      <td>Receiving block &lt;*&gt; src: &lt;*&gt; dest: &lt;*&gt;</td>\n",
       "      <td>['blk_-1608999687919862906', '/10.250.10.6:405...</td>\n",
       "      <td>blk_-1608999687919862906</td>\n",
       "      <td>[blk_-1608999687919862906, /10.250.10.6:40524,...</td>\n",
       "      <td>0</td>\n",
       "    </tr>\n",
       "    <tr>\n",
       "      <th>3</th>\n",
       "      <td>4</td>\n",
       "      <td>81109</td>\n",
       "      <td>203519</td>\n",
       "      <td>145</td>\n",
       "      <td>INFO</td>\n",
       "      <td>dfs.DataNode$DataXceiver</td>\n",
       "      <td>Receiving block blk_-1608999687919862906 src: ...</td>\n",
       "      <td>09a53393</td>\n",
       "      <td>Receiving block &lt;*&gt; src: &lt;*&gt; dest: &lt;*&gt;</td>\n",
       "      <td>['blk_-1608999687919862906', '/10.250.14.224:4...</td>\n",
       "      <td>blk_-1608999687919862906</td>\n",
       "      <td>[blk_-1608999687919862906, /10.250.14.224:4242...</td>\n",
       "      <td>0</td>\n",
       "    </tr>\n",
       "    <tr>\n",
       "      <th>4</th>\n",
       "      <td>5</td>\n",
       "      <td>81109</td>\n",
       "      <td>203519</td>\n",
       "      <td>145</td>\n",
       "      <td>INFO</td>\n",
       "      <td>dfs.DataNode$PacketResponder</td>\n",
       "      <td>PacketResponder 1 for block blk_-1608999687919...</td>\n",
       "      <td>d38aa58d</td>\n",
       "      <td>PacketResponder &lt;*&gt; for block &lt;*&gt; &lt;*&gt;</td>\n",
       "      <td>['1', 'blk_-1608999687919862906 terminating']</td>\n",
       "      <td>blk_-1608999687919862906</td>\n",
       "      <td>[1, blk_-1608999687919862906 terminating]</td>\n",
       "      <td>2</td>\n",
       "    </tr>\n",
       "  </tbody>\n",
       "</table>\n",
       "</div>"
      ],
      "text/plain": [
       "   LineId   Date    Time  Pid Level                     Component  \\\n",
       "0       1  81109  203518  143  INFO      dfs.DataNode$DataXceiver   \n",
       "1       2  81109  203518   35  INFO              dfs.FSNamesystem   \n",
       "2       3  81109  203519  143  INFO      dfs.DataNode$DataXceiver   \n",
       "3       4  81109  203519  145  INFO      dfs.DataNode$DataXceiver   \n",
       "4       5  81109  203519  145  INFO  dfs.DataNode$PacketResponder   \n",
       "\n",
       "                                             Content   EventId  \\\n",
       "0  Receiving block blk_-1608999687919862906 src: ...  09a53393   \n",
       "1  BLOCK* NameSystem.allocateBlock: /mnt/hadoop/m...  3d91fa85   \n",
       "2  Receiving block blk_-1608999687919862906 src: ...  09a53393   \n",
       "3  Receiving block blk_-1608999687919862906 src: ...  09a53393   \n",
       "4  PacketResponder 1 for block blk_-1608999687919...  d38aa58d   \n",
       "\n",
       "                              EventTemplate  \\\n",
       "0    Receiving block <*> src: <*> dest: <*>   \n",
       "1  BLOCK* NameSystem.allocateBlock: <*> <*>   \n",
       "2    Receiving block <*> src: <*> dest: <*>   \n",
       "3    Receiving block <*> src: <*> dest: <*>   \n",
       "4     PacketResponder <*> for block <*> <*>   \n",
       "\n",
       "                                       ParameterList  \\\n",
       "0  ['blk_-1608999687919862906', '/10.250.19.102:5...   \n",
       "1  ['/mnt/hadoop/mapred/system/job_200811092030_0...   \n",
       "2  ['blk_-1608999687919862906', '/10.250.10.6:405...   \n",
       "3  ['blk_-1608999687919862906', '/10.250.14.224:4...   \n",
       "4      ['1', 'blk_-1608999687919862906 terminating']   \n",
       "\n",
       "                    BlockId  \\\n",
       "0  blk_-1608999687919862906   \n",
       "1  blk_-1608999687919862906   \n",
       "2  blk_-1608999687919862906   \n",
       "3  blk_-1608999687919862906   \n",
       "4  blk_-1608999687919862906   \n",
       "\n",
       "                                 ParsedParameterList  NewEventId  \n",
       "0  [blk_-1608999687919862906, /10.250.19.102:5410...           0  \n",
       "1  [/mnt/hadoop/mapred/system/job_200811092030_00...           6  \n",
       "2  [blk_-1608999687919862906, /10.250.10.6:40524,...           0  \n",
       "3  [blk_-1608999687919862906, /10.250.14.224:4242...           0  \n",
       "4          [1, blk_-1608999687919862906 terminating]           2  "
      ]
     },
     "execution_count": 10,
     "metadata": {},
     "output_type": "execute_result"
    }
   ],
   "source": [
    "structured_with_event_id_pdf = structured_df.merge(event_id_mapping_pdf, on=\"EventId\")\n",
    "structured_with_event_id_pdf.head()"
   ]
  },
  {
   "cell_type": "markdown",
   "metadata": {},
   "source": [
    "## Construct blocks to parse\n",
    "\n",
    "https://raw.githubusercontent.com/EleutherAI/pythia/refs/heads/main/utils/20B_tokenizer.json has the tokenizer configuration.  We will use the `<|sep|>` token to immediately precede the short event id.  We need to add the `<|sep|>` token to the tokenizer, because it is not in the default tokenizer.  This will hopefully help the attention mechanism attend to the event id specifically.  We have shortened the event id to the minimum length based on the number occurences.  This will gives an efficient coding that will be less complicated for the attention mechanism.\n",
    "\n",
    "We can consider a more customized tokenizer as another experiment.  This might help because of the special characters and the dominance of numbers in the logs.\n"
   ]
  },
  {
   "cell_type": "code",
   "execution_count": 58,
   "metadata": {},
   "outputs": [],
   "source": [
    "from transformers import GPTNeoXTokenizerFast\n",
    "tokenizer = GPTNeoXTokenizerFast.from_pretrained(\"EleutherAI/pythia-14m\")\n",
    "tokenizer.add_special_tokens({\"additional_special_tokens\": [\"<|sep|>\"]})\n",
    "tokenizer.sep_token = \"<|sep|>\"\n",
    "tokenizer.sep_token_id\n",
    "tokenizer.pad_token_id = tokenizer.eos_token_id\n"
   ]
  },
  {
   "cell_type": "markdown",
   "metadata": {},
   "source": [
    "Double check that the tokenizer properly encodes the new special token"
   ]
  },
  {
   "cell_type": "code",
   "execution_count": 59,
   "metadata": {},
   "outputs": [
    {
     "data": {
      "text/plain": [
       "[50277]"
      ]
     },
     "execution_count": 59,
     "metadata": {},
     "output_type": "execute_result"
    }
   ],
   "source": [
    "\n",
    "tokenizer.encode(\"<|sep|>\")\n"
   ]
  },
  {
   "cell_type": "markdown",
   "metadata": {},
   "source": [
    "Review then tokenizer configuration, again to ensure the new special token is included\n"
   ]
  },
  {
   "cell_type": "code",
   "execution_count": 13,
   "metadata": {},
   "outputs": [
    {
     "data": {
      "text/plain": [
       "GPTNeoXTokenizerFast(name_or_path='EleutherAI/pythia-14m', vocab_size=50254, model_max_length=1000000000000000019884624838656, is_fast=True, padding_side='right', truncation_side='right', special_tokens={'bos_token': '<|endoftext|>', 'eos_token': '<|endoftext|>', 'unk_token': '<|endoftext|>', 'sep_token': '<|sep|>', 'additional_special_tokens': ['<|sep|>']}, clean_up_tokenization_spaces=True),  added_tokens_decoder={\n",
       "\t0: AddedToken(\"<|endoftext|>\", rstrip=False, lstrip=False, single_word=False, normalized=False, special=True),\n",
       "\t1: AddedToken(\"<|padding|>\", rstrip=False, lstrip=False, single_word=False, normalized=False, special=True),\n",
       "\t50254: AddedToken(\"                        \", rstrip=False, lstrip=False, single_word=False, normalized=True, special=False),\n",
       "\t50255: AddedToken(\"                       \", rstrip=False, lstrip=False, single_word=False, normalized=True, special=False),\n",
       "\t50256: AddedToken(\"                      \", rstrip=False, lstrip=False, single_word=False, normalized=True, special=False),\n",
       "\t50257: AddedToken(\"                     \", rstrip=False, lstrip=False, single_word=False, normalized=True, special=False),\n",
       "\t50258: AddedToken(\"                    \", rstrip=False, lstrip=False, single_word=False, normalized=True, special=False),\n",
       "\t50259: AddedToken(\"                   \", rstrip=False, lstrip=False, single_word=False, normalized=True, special=False),\n",
       "\t50260: AddedToken(\"                  \", rstrip=False, lstrip=False, single_word=False, normalized=True, special=False),\n",
       "\t50261: AddedToken(\"                 \", rstrip=False, lstrip=False, single_word=False, normalized=True, special=False),\n",
       "\t50262: AddedToken(\"                \", rstrip=False, lstrip=False, single_word=False, normalized=True, special=False),\n",
       "\t50263: AddedToken(\"               \", rstrip=False, lstrip=False, single_word=False, normalized=True, special=False),\n",
       "\t50264: AddedToken(\"              \", rstrip=False, lstrip=False, single_word=False, normalized=True, special=False),\n",
       "\t50265: AddedToken(\"             \", rstrip=False, lstrip=False, single_word=False, normalized=True, special=False),\n",
       "\t50266: AddedToken(\"            \", rstrip=False, lstrip=False, single_word=False, normalized=True, special=False),\n",
       "\t50267: AddedToken(\"           \", rstrip=False, lstrip=False, single_word=False, normalized=True, special=False),\n",
       "\t50268: AddedToken(\"          \", rstrip=False, lstrip=False, single_word=False, normalized=True, special=False),\n",
       "\t50269: AddedToken(\"         \", rstrip=False, lstrip=False, single_word=False, normalized=True, special=False),\n",
       "\t50270: AddedToken(\"        \", rstrip=False, lstrip=False, single_word=False, normalized=True, special=False),\n",
       "\t50271: AddedToken(\"       \", rstrip=False, lstrip=False, single_word=False, normalized=True, special=False),\n",
       "\t50272: AddedToken(\"      \", rstrip=False, lstrip=False, single_word=False, normalized=True, special=False),\n",
       "\t50273: AddedToken(\"     \", rstrip=False, lstrip=False, single_word=False, normalized=True, special=False),\n",
       "\t50274: AddedToken(\"    \", rstrip=False, lstrip=False, single_word=False, normalized=True, special=False),\n",
       "\t50275: AddedToken(\"   \", rstrip=False, lstrip=False, single_word=False, normalized=True, special=False),\n",
       "\t50276: AddedToken(\"  \", rstrip=False, lstrip=False, single_word=False, normalized=True, special=False),\n",
       "\t50277: AddedToken(\"<|sep|>\", rstrip=False, lstrip=False, single_word=False, normalized=False, special=True),\n",
       "}"
      ]
     },
     "execution_count": 13,
     "metadata": {},
     "output_type": "execute_result"
    }
   ],
   "source": [
    "tokenizer"
   ]
  },
  {
   "cell_type": "code",
   "execution_count": 14,
   "metadata": {},
   "outputs": [
    {
     "data": {
      "text/html": [
       "<div>\n",
       "<style scoped>\n",
       "    .dataframe tbody tr th:only-of-type {\n",
       "        vertical-align: middle;\n",
       "    }\n",
       "\n",
       "    .dataframe tbody tr th {\n",
       "        vertical-align: top;\n",
       "    }\n",
       "\n",
       "    .dataframe thead th {\n",
       "        text-align: right;\n",
       "    }\n",
       "</style>\n",
       "<table border=\"1\" class=\"dataframe\">\n",
       "  <thead>\n",
       "    <tr style=\"text-align: right;\">\n",
       "      <th></th>\n",
       "      <th>LineId</th>\n",
       "      <th>Date</th>\n",
       "      <th>Time</th>\n",
       "      <th>Pid</th>\n",
       "      <th>Level</th>\n",
       "      <th>Component</th>\n",
       "      <th>Content</th>\n",
       "      <th>EventId</th>\n",
       "      <th>EventTemplate</th>\n",
       "      <th>ParameterList</th>\n",
       "      <th>BlockId</th>\n",
       "      <th>ParsedParameterList</th>\n",
       "      <th>NewEventId</th>\n",
       "      <th>event_encoded</th>\n",
       "    </tr>\n",
       "  </thead>\n",
       "  <tbody>\n",
       "    <tr>\n",
       "      <th>0</th>\n",
       "      <td>1</td>\n",
       "      <td>81109</td>\n",
       "      <td>203518</td>\n",
       "      <td>143</td>\n",
       "      <td>INFO</td>\n",
       "      <td>dfs.DataNode$DataXceiver</td>\n",
       "      <td>Receiving block blk_-1608999687919862906 src: ...</td>\n",
       "      <td>09a53393</td>\n",
       "      <td>Receiving block &lt;*&gt; src: &lt;*&gt; dest: &lt;*&gt;</td>\n",
       "      <td>['blk_-1608999687919862906', '/10.250.19.102:5...</td>\n",
       "      <td>blk_-1608999687919862906</td>\n",
       "      <td>[blk_-1608999687919862906, /10.250.19.102:5410...</td>\n",
       "      <td>0</td>\n",
       "      <td>&lt;|sep|&gt;0 /10.250.19.102:54106 /10.250.19.102:5...</td>\n",
       "    </tr>\n",
       "    <tr>\n",
       "      <th>1</th>\n",
       "      <td>2</td>\n",
       "      <td>81109</td>\n",
       "      <td>203518</td>\n",
       "      <td>35</td>\n",
       "      <td>INFO</td>\n",
       "      <td>dfs.FSNamesystem</td>\n",
       "      <td>BLOCK* NameSystem.allocateBlock: /mnt/hadoop/m...</td>\n",
       "      <td>3d91fa85</td>\n",
       "      <td>BLOCK* NameSystem.allocateBlock: &lt;*&gt; &lt;*&gt;</td>\n",
       "      <td>['/mnt/hadoop/mapred/system/job_200811092030_0...</td>\n",
       "      <td>blk_-1608999687919862906</td>\n",
       "      <td>[/mnt/hadoop/mapred/system/job_200811092030_00...</td>\n",
       "      <td>6</td>\n",
       "      <td>&lt;|sep|&gt;6</td>\n",
       "    </tr>\n",
       "    <tr>\n",
       "      <th>2</th>\n",
       "      <td>3</td>\n",
       "      <td>81109</td>\n",
       "      <td>203519</td>\n",
       "      <td>143</td>\n",
       "      <td>INFO</td>\n",
       "      <td>dfs.DataNode$DataXceiver</td>\n",
       "      <td>Receiving block blk_-1608999687919862906 src: ...</td>\n",
       "      <td>09a53393</td>\n",
       "      <td>Receiving block &lt;*&gt; src: &lt;*&gt; dest: &lt;*&gt;</td>\n",
       "      <td>['blk_-1608999687919862906', '/10.250.10.6:405...</td>\n",
       "      <td>blk_-1608999687919862906</td>\n",
       "      <td>[blk_-1608999687919862906, /10.250.10.6:40524,...</td>\n",
       "      <td>0</td>\n",
       "      <td>&lt;|sep|&gt;0 /10.250.10.6:40524 /10.250.10.6:50010</td>\n",
       "    </tr>\n",
       "    <tr>\n",
       "      <th>3</th>\n",
       "      <td>4</td>\n",
       "      <td>81109</td>\n",
       "      <td>203519</td>\n",
       "      <td>145</td>\n",
       "      <td>INFO</td>\n",
       "      <td>dfs.DataNode$DataXceiver</td>\n",
       "      <td>Receiving block blk_-1608999687919862906 src: ...</td>\n",
       "      <td>09a53393</td>\n",
       "      <td>Receiving block &lt;*&gt; src: &lt;*&gt; dest: &lt;*&gt;</td>\n",
       "      <td>['blk_-1608999687919862906', '/10.250.14.224:4...</td>\n",
       "      <td>blk_-1608999687919862906</td>\n",
       "      <td>[blk_-1608999687919862906, /10.250.14.224:4242...</td>\n",
       "      <td>0</td>\n",
       "      <td>&lt;|sep|&gt;0 /10.250.14.224:42420 /10.250.14.224:5...</td>\n",
       "    </tr>\n",
       "    <tr>\n",
       "      <th>4</th>\n",
       "      <td>5</td>\n",
       "      <td>81109</td>\n",
       "      <td>203519</td>\n",
       "      <td>145</td>\n",
       "      <td>INFO</td>\n",
       "      <td>dfs.DataNode$PacketResponder</td>\n",
       "      <td>PacketResponder 1 for block blk_-1608999687919...</td>\n",
       "      <td>d38aa58d</td>\n",
       "      <td>PacketResponder &lt;*&gt; for block &lt;*&gt; &lt;*&gt;</td>\n",
       "      <td>['1', 'blk_-1608999687919862906 terminating']</td>\n",
       "      <td>blk_-1608999687919862906</td>\n",
       "      <td>[1, blk_-1608999687919862906 terminating]</td>\n",
       "      <td>2</td>\n",
       "      <td>&lt;|sep|&gt;2 1</td>\n",
       "    </tr>\n",
       "  </tbody>\n",
       "</table>\n",
       "</div>"
      ],
      "text/plain": [
       "   LineId   Date    Time  Pid Level                     Component  \\\n",
       "0       1  81109  203518  143  INFO      dfs.DataNode$DataXceiver   \n",
       "1       2  81109  203518   35  INFO              dfs.FSNamesystem   \n",
       "2       3  81109  203519  143  INFO      dfs.DataNode$DataXceiver   \n",
       "3       4  81109  203519  145  INFO      dfs.DataNode$DataXceiver   \n",
       "4       5  81109  203519  145  INFO  dfs.DataNode$PacketResponder   \n",
       "\n",
       "                                             Content   EventId  \\\n",
       "0  Receiving block blk_-1608999687919862906 src: ...  09a53393   \n",
       "1  BLOCK* NameSystem.allocateBlock: /mnt/hadoop/m...  3d91fa85   \n",
       "2  Receiving block blk_-1608999687919862906 src: ...  09a53393   \n",
       "3  Receiving block blk_-1608999687919862906 src: ...  09a53393   \n",
       "4  PacketResponder 1 for block blk_-1608999687919...  d38aa58d   \n",
       "\n",
       "                              EventTemplate  \\\n",
       "0    Receiving block <*> src: <*> dest: <*>   \n",
       "1  BLOCK* NameSystem.allocateBlock: <*> <*>   \n",
       "2    Receiving block <*> src: <*> dest: <*>   \n",
       "3    Receiving block <*> src: <*> dest: <*>   \n",
       "4     PacketResponder <*> for block <*> <*>   \n",
       "\n",
       "                                       ParameterList  \\\n",
       "0  ['blk_-1608999687919862906', '/10.250.19.102:5...   \n",
       "1  ['/mnt/hadoop/mapred/system/job_200811092030_0...   \n",
       "2  ['blk_-1608999687919862906', '/10.250.10.6:405...   \n",
       "3  ['blk_-1608999687919862906', '/10.250.14.224:4...   \n",
       "4      ['1', 'blk_-1608999687919862906 terminating']   \n",
       "\n",
       "                    BlockId  \\\n",
       "0  blk_-1608999687919862906   \n",
       "1  blk_-1608999687919862906   \n",
       "2  blk_-1608999687919862906   \n",
       "3  blk_-1608999687919862906   \n",
       "4  blk_-1608999687919862906   \n",
       "\n",
       "                                 ParsedParameterList  NewEventId  \\\n",
       "0  [blk_-1608999687919862906, /10.250.19.102:5410...           0   \n",
       "1  [/mnt/hadoop/mapred/system/job_200811092030_00...           6   \n",
       "2  [blk_-1608999687919862906, /10.250.10.6:40524,...           0   \n",
       "3  [blk_-1608999687919862906, /10.250.14.224:4242...           0   \n",
       "4          [1, blk_-1608999687919862906 terminating]           2   \n",
       "\n",
       "                                       event_encoded  \n",
       "0  <|sep|>0 /10.250.19.102:54106 /10.250.19.102:5...  \n",
       "1                                          <|sep|>6   \n",
       "2     <|sep|>0 /10.250.10.6:40524 /10.250.10.6:50010  \n",
       "3  <|sep|>0 /10.250.14.224:42420 /10.250.14.224:5...  \n",
       "4                                         <|sep|>2 1  "
      ]
     },
     "execution_count": 14,
     "metadata": {},
     "output_type": "execute_result"
    }
   ],
   "source": [
    "structured_with_event_id_pdf['event_encoded'] = structured_with_event_id_pdf.apply(lambda row: f\"{tokenizer.sep_token}{row['NewEventId']} {' '.join(param for param in row['ParsedParameterList'] if 'blk_' not in param)}\", axis=1)\n",
    "structured_with_event_id_pdf.head()\n"
   ]
  },
  {
   "cell_type": "code",
   "execution_count": 15,
   "metadata": {},
   "outputs": [
    {
     "data": {
      "text/plain": [
       "BlockId\n",
       "blk_-1000002529962039464    <|sep|>0 /10.251.123.1:41333 /10.251.123.1:500...\n",
       "blk_-100000266894974466     <|sep|>6 <|sep|>0 /10.250.10.144:36204 /10.250...\n",
       "blk_-1000007292892887521    <|sep|>0 /10.251.127.47:50228 /10.251.127.47:5...\n",
       "blk_-1000014584150379967    <|sep|>0 /10.251.43.210:49254 /10.251.43.210:5...\n",
       "blk_-1000028658773048709    <|sep|>0 /10.251.107.196:58917 /10.251.107.196...\n",
       "Name: event_encoded, dtype: object"
      ]
     },
     "execution_count": 15,
     "metadata": {},
     "output_type": "execute_result"
    }
   ],
   "source": [
    "encoded_blocks_series = structured_with_event_id_pdf.groupby(\"BlockId\")['event_encoded'].apply(lambda x: \"\".join(x))\n",
    "encoded_blocks_series.head()\n"
   ]
  },
  {
   "cell_type": "code",
   "execution_count": 16,
   "metadata": {},
   "outputs": [
    {
     "name": "stdout",
     "output_type": "stream",
     "text": [
      "(575061,)\n",
      "<|sep|>0 /10.251.123.1:41333 /10.251.123.1:50010<|sep|>0 /10.251.123.1:53174 /10.251.123.1:50010<|sep|>0 /10.251.202.181:32980 /10.251.202.181:50010<|sep|>6 <|sep|>2 2<|sep|>3 3553241 /10.251.123.1<|sep|>2 0<|sep|>3 3553241 /10.251.202.181<|sep|>1 10.251.126.22:50010 3553241<|sep|>1 10.251.202.181:50010 3553241<|sep|>1 10.251.123.1:50010 3553241<|sep|>2 1<|sep|>3 3553241 /10.251.123.1\n"
     ]
    }
   ],
   "source": [
    "print(encoded_blocks_series.shape)\n",
    "print(encoded_blocks_series.iloc[0])\n"
   ]
  },
  {
   "cell_type": "markdown",
   "metadata": {},
   "source": [
    "# Start with pretrained weights\n",
    "\n",
    "The intuition is that the model will benefit some from understanding words and numbers (to some extent) when they appear, even if the structure of logs is very different from english sentences.  We can test this with an ablation study by randomizing the weights before training and then looking at the difference in the loss."
   ]
  },
  {
   "cell_type": "markdown",
   "metadata": {},
   "source": [
    "### Understanding Pythia Model Vocabulary Size Discrepancy\n",
    "\n",
    "When loading a Pythia model from EleutherAI, I noticed a discrepancy between the model's embedding weight shape and the tokenizer vocabulary size:\n",
    "\n",
    "```python\n",
    "import torch\n",
    "from transformers import GPTNeoXForCausalLM, GPTNeoXTokenizerFast\n",
    "\n",
    "model = GPTNeoXForCausalLM.from_pretrained(\"EleutherAI/pythia-14m\")\n",
    "tokenizer = GPTNeoXTokenizerFast.from_pretrained(\"EleutherAI/pythia-14m\")\n",
    "model.get_input_embeddings().weight.data.shape\n",
    "```\n",
    "\n",
    "This outputs:\n",
    "```\n",
    "torch.Size([50304, 128])\n",
    "```\n",
    "\n",
    "However, the tokenizer's vocab size is:\n",
    "```python\n",
    ">>> tokenizer.vocab_size + len(tokenizer.added_tokens_encoder)\n",
    "50279\n",
    "```\n",
    "\n",
    "Including special tokens, the vocab size is 50277.\n",
    "\n",
    "The original 50304 dimensions confused me at first, but it turns out the size is padded in order to facilitate alignment with tensor cores. Specifically, `50304 = 2^7 * 3 * 131`, so the embedding size is a multiple of 128.\n",
    "\n",
    "From [The Case for Co-Designing Model Architectures with Hardware](https://arxiv.org/pdf/2401.14489v2):\n",
    "\n",
    "> Tensor Cores can be fully utilized when GEMM dimensions m, k, and n are multiples\n",
    "> of 16 bytes and 128 bytes for V100 and A100 GPUs, respectively. Since a FP16\n",
    "> element is 2 bytes, this corresponds to dimension sizes that are multiples of 8\n",
    "> and 64 elements, respectively.\n",
    "\n",
    "So it looks like the embedding size is a multiple of 64.\n",
    "\n",
    "### Solution\n",
    "\n",
    "Add padding to the embedding size to match the parallelization factor.\n",
    "```\n",
    "model.resize_token_embeddings(len(tokenizer), pad_to_multiple_of=64)\n",
    "```\n",
    "\n"
   ]
  },
  {
   "cell_type": "code",
   "execution_count": 60,
   "metadata": {},
   "outputs": [],
   "source": [
    "import torch\n",
    "\n",
    "from transformers import GPTNeoXForCausalLM\n",
    "\n",
    "def get_model():\n",
    "\n",
    "    model = GPTNeoXForCausalLM.from_pretrained(\"EleutherAI/pythia-14m\")\n",
    "    model.resize_token_embeddings(len(tokenizer), pad_to_multiple_of=64)\n",
    "    model.get_input_embeddings().weight.data.shape\n",
    "\n",
    "    return model\n",
    "\n",
    "model = get_model()"
   ]
  },
  {
   "cell_type": "markdown",
   "metadata": {},
   "source": [
    "# Encode the blocks using the new tokenizer"
   ]
  },
  {
   "cell_type": "code",
   "execution_count": 18,
   "metadata": {},
   "outputs": [],
   "source": [
    "encoded_blocks_pdf = encoded_blocks_series.to_frame()\n",
    "encoded_blocks_pdf['encoded_block'] = encoded_blocks_pdf.event_encoded.apply(tokenizer.encode)\n"
   ]
  },
  {
   "cell_type": "code",
   "execution_count": 19,
   "metadata": {},
   "outputs": [
    {
     "data": {
      "text/html": [
       "<div>\n",
       "<style scoped>\n",
       "    .dataframe tbody tr th:only-of-type {\n",
       "        vertical-align: middle;\n",
       "    }\n",
       "\n",
       "    .dataframe tbody tr th {\n",
       "        vertical-align: top;\n",
       "    }\n",
       "\n",
       "    .dataframe thead th {\n",
       "        text-align: right;\n",
       "    }\n",
       "</style>\n",
       "<table border=\"1\" class=\"dataframe\">\n",
       "  <thead>\n",
       "    <tr style=\"text-align: right;\">\n",
       "      <th></th>\n",
       "      <th>event_encoded</th>\n",
       "      <th>encoded_block</th>\n",
       "    </tr>\n",
       "    <tr>\n",
       "      <th>BlockId</th>\n",
       "      <th></th>\n",
       "      <th></th>\n",
       "    </tr>\n",
       "  </thead>\n",
       "  <tbody>\n",
       "    <tr>\n",
       "      <th>blk_-1000002529962039464</th>\n",
       "      <td>&lt;|sep|&gt;0 /10.251.123.1:41333 /10.251.123.1:500...</td>\n",
       "      <td>[50277, 17, 1227, 740, 15, 21451, 15, 10683, 1...</td>\n",
       "    </tr>\n",
       "    <tr>\n",
       "      <th>blk_-100000266894974466</th>\n",
       "      <td>&lt;|sep|&gt;6 &lt;|sep|&gt;0 /10.250.10.144:36204 /10.250...</td>\n",
       "      <td>[50277, 23, 209, 50277, 17, 1227, 740, 15, 951...</td>\n",
       "    </tr>\n",
       "    <tr>\n",
       "      <th>blk_-1000007292892887521</th>\n",
       "      <td>&lt;|sep|&gt;0 /10.251.127.47:50228 /10.251.127.47:5...</td>\n",
       "      <td>[50277, 17, 1227, 740, 15, 21451, 15, 11946, 1...</td>\n",
       "    </tr>\n",
       "    <tr>\n",
       "      <th>blk_-1000014584150379967</th>\n",
       "      <td>&lt;|sep|&gt;0 /10.251.43.210:49254 /10.251.43.210:5...</td>\n",
       "      <td>[50277, 17, 1227, 740, 15, 21451, 15, 3079, 15...</td>\n",
       "    </tr>\n",
       "    <tr>\n",
       "      <th>blk_-1000028658773048709</th>\n",
       "      <td>&lt;|sep|&gt;0 /10.251.107.196:58917 /10.251.107.196...</td>\n",
       "      <td>[50277, 17, 1227, 740, 15, 21451, 15, 12224, 1...</td>\n",
       "    </tr>\n",
       "    <tr>\n",
       "      <th>...</th>\n",
       "      <td>...</td>\n",
       "      <td>...</td>\n",
       "    </tr>\n",
       "    <tr>\n",
       "      <th>blk_999905757185707736</th>\n",
       "      <td>&lt;|sep|&gt;0 /10.251.39.160:41914 /10.251.39.160:5...</td>\n",
       "      <td>[50277, 17, 1227, 740, 15, 21451, 15, 1867, 15...</td>\n",
       "    </tr>\n",
       "    <tr>\n",
       "      <th>blk_999915040208161699</th>\n",
       "      <td>&lt;|sep|&gt;0 /10.251.43.210:46583 /10.251.43.210:5...</td>\n",
       "      <td>[50277, 17, 1227, 740, 15, 21451, 15, 3079, 15...</td>\n",
       "    </tr>\n",
       "    <tr>\n",
       "      <th>blk_999958959261325562</th>\n",
       "      <td>&lt;|sep|&gt;0 /10.251.203.246:56717 /10.251.203.246...</td>\n",
       "      <td>[50277, 17, 1227, 740, 15, 21451, 15, 17490, 1...</td>\n",
       "    </tr>\n",
       "    <tr>\n",
       "      <th>blk_999974850451006327</th>\n",
       "      <td>&lt;|sep|&gt;0 /10.251.126.5:32870 /10.251.126.5:500...</td>\n",
       "      <td>[50277, 17, 1227, 740, 15, 21451, 15, 13381, 1...</td>\n",
       "    </tr>\n",
       "    <tr>\n",
       "      <th>blk_99998025970454642</th>\n",
       "      <td>&lt;|sep|&gt;0 /10.251.121.224:53211 /10.251.121.224...</td>\n",
       "      <td>[50277, 17, 1227, 740, 15, 21451, 15, 15144, 1...</td>\n",
       "    </tr>\n",
       "  </tbody>\n",
       "</table>\n",
       "<p>575061 rows × 2 columns</p>\n",
       "</div>"
      ],
      "text/plain": [
       "                                                              event_encoded  \\\n",
       "BlockId                                                                       \n",
       "blk_-1000002529962039464  <|sep|>0 /10.251.123.1:41333 /10.251.123.1:500...   \n",
       "blk_-100000266894974466   <|sep|>6 <|sep|>0 /10.250.10.144:36204 /10.250...   \n",
       "blk_-1000007292892887521  <|sep|>0 /10.251.127.47:50228 /10.251.127.47:5...   \n",
       "blk_-1000014584150379967  <|sep|>0 /10.251.43.210:49254 /10.251.43.210:5...   \n",
       "blk_-1000028658773048709  <|sep|>0 /10.251.107.196:58917 /10.251.107.196...   \n",
       "...                                                                     ...   \n",
       "blk_999905757185707736    <|sep|>0 /10.251.39.160:41914 /10.251.39.160:5...   \n",
       "blk_999915040208161699    <|sep|>0 /10.251.43.210:46583 /10.251.43.210:5...   \n",
       "blk_999958959261325562    <|sep|>0 /10.251.203.246:56717 /10.251.203.246...   \n",
       "blk_999974850451006327    <|sep|>0 /10.251.126.5:32870 /10.251.126.5:500...   \n",
       "blk_99998025970454642     <|sep|>0 /10.251.121.224:53211 /10.251.121.224...   \n",
       "\n",
       "                                                              encoded_block  \n",
       "BlockId                                                                      \n",
       "blk_-1000002529962039464  [50277, 17, 1227, 740, 15, 21451, 15, 10683, 1...  \n",
       "blk_-100000266894974466   [50277, 23, 209, 50277, 17, 1227, 740, 15, 951...  \n",
       "blk_-1000007292892887521  [50277, 17, 1227, 740, 15, 21451, 15, 11946, 1...  \n",
       "blk_-1000014584150379967  [50277, 17, 1227, 740, 15, 21451, 15, 3079, 15...  \n",
       "blk_-1000028658773048709  [50277, 17, 1227, 740, 15, 21451, 15, 12224, 1...  \n",
       "...                                                                     ...  \n",
       "blk_999905757185707736    [50277, 17, 1227, 740, 15, 21451, 15, 1867, 15...  \n",
       "blk_999915040208161699    [50277, 17, 1227, 740, 15, 21451, 15, 3079, 15...  \n",
       "blk_999958959261325562    [50277, 17, 1227, 740, 15, 21451, 15, 17490, 1...  \n",
       "blk_999974850451006327    [50277, 17, 1227, 740, 15, 21451, 15, 13381, 1...  \n",
       "blk_99998025970454642     [50277, 17, 1227, 740, 15, 21451, 15, 15144, 1...  \n",
       "\n",
       "[575061 rows x 2 columns]"
      ]
     },
     "execution_count": 19,
     "metadata": {},
     "output_type": "execute_result"
    }
   ],
   "source": [
    "encoded_blocks_pdf"
   ]
  },
  {
   "cell_type": "code",
   "execution_count": 20,
   "metadata": {},
   "outputs": [
    {
     "name": "stdout",
     "output_type": "stream",
     "text": [
      "total token count: 137,942,766\n"
     ]
    },
    {
     "data": {
      "text/plain": [
       "count    575061.000000\n",
       "mean        239.875015\n",
       "std          85.098227\n",
       "min          27.000000\n",
       "25%         219.000000\n",
       "50%         219.000000\n",
       "75%         223.000000\n",
       "max        5770.000000\n",
       "Name: encoded_block, dtype: float64"
      ]
     },
     "execution_count": 20,
     "metadata": {},
     "output_type": "execute_result"
    }
   ],
   "source": [
    "print(f\"total token count: {encoded_blocks_pdf.encoded_block.apply(len).sum():,}\")\n",
    "encoded_blocks_pdf.encoded_block.apply(len).describe()"
   ]
  },
  {
   "cell_type": "code",
   "execution_count": 63,
   "metadata": {},
   "outputs": [
    {
     "data": {
      "text/plain": [
       "count    575061.000000\n",
       "mean        239.875015\n",
       "std          85.098227\n",
       "min          27.000000\n",
       "1%           54.000000\n",
       "5%          174.000000\n",
       "10%         174.000000\n",
       "25%         219.000000\n",
       "50%         219.000000\n",
       "75%         223.000000\n",
       "90%         343.000000\n",
       "95%         405.000000\n",
       "99%         476.000000\n",
       "max        5770.000000\n",
       "Name: encoded_block, dtype: float64"
      ]
     },
     "execution_count": 63,
     "metadata": {},
     "output_type": "execute_result"
    }
   ],
   "source": [
    "encoded_blocks_pdf.encoded_block.apply(len).describe(percentiles=[0.01, 0.05, 0.1, 0.25, 0.5, 0.75, 0.9, 0.95, 0.99])\n"
   ]
  },
  {
   "cell_type": "code",
   "execution_count": 21,
   "metadata": {},
   "outputs": [
    {
     "data": {
      "text/plain": [
       "True"
      ]
     },
     "execution_count": 21,
     "metadata": {},
     "output_type": "execute_result"
    }
   ],
   "source": [
    "torch.backends.mps.is_available()"
   ]
  },
  {
   "cell_type": "code",
   "execution_count": 22,
   "metadata": {},
   "outputs": [
    {
     "name": "stdout",
     "output_type": "stream",
     "text": [
      "Training samples: 460048\n",
      "Test samples: 115013\n"
     ]
    }
   ],
   "source": [
    "from sklearn.model_selection import train_test_split\n",
    "\n",
    "# Merge with anomaly labels\n",
    "encoded_blocks_with_labels = encoded_blocks_pdf.merge(\n",
    "    anomaly_label_df, \n",
    "    left_index=True, \n",
    "    right_on='BlockId'\n",
    ")\n",
    "\n",
    "# Split into train/test sets (80/20 split)\n",
    "train_df, test_df = train_test_split(\n",
    "    encoded_blocks_with_labels,\n",
    "    test_size=0.2,\n",
    "    random_state=42,\n",
    "    stratify=encoded_blocks_with_labels['Label']\n",
    ")\n",
    "\n",
    "print(f\"Training samples: {len(train_df)}\")\n",
    "print(f\"Test samples: {len(test_df)}\")"
   ]
  },
  {
   "cell_type": "code",
   "execution_count": 23,
   "metadata": {},
   "outputs": [
    {
     "data": {
      "text/html": [
       "<div>\n",
       "<style scoped>\n",
       "    .dataframe tbody tr th:only-of-type {\n",
       "        vertical-align: middle;\n",
       "    }\n",
       "\n",
       "    .dataframe tbody tr th {\n",
       "        vertical-align: top;\n",
       "    }\n",
       "\n",
       "    .dataframe thead th {\n",
       "        text-align: right;\n",
       "    }\n",
       "</style>\n",
       "<table border=\"1\" class=\"dataframe\">\n",
       "  <thead>\n",
       "    <tr style=\"text-align: right;\">\n",
       "      <th></th>\n",
       "      <th>event_encoded</th>\n",
       "      <th>encoded_block</th>\n",
       "      <th>BlockId</th>\n",
       "      <th>Label</th>\n",
       "    </tr>\n",
       "  </thead>\n",
       "  <tbody>\n",
       "    <tr>\n",
       "      <th>257494</th>\n",
       "      <td>&lt;|sep|&gt;0 /10.251.67.211:54457 /10.251.67.211:5...</td>\n",
       "      <td>[50277, 17, 1227, 740, 15, 21451, 15, 2251, 15...</td>\n",
       "      <td>blk_-4040947678439826686</td>\n",
       "      <td>Normal</td>\n",
       "    </tr>\n",
       "    <tr>\n",
       "      <th>49365</th>\n",
       "      <td>&lt;|sep|&gt;6 &lt;|sep|&gt;0 /10.251.106.37:36707 /10.251...</td>\n",
       "      <td>[50277, 23, 209, 50277, 17, 1227, 740, 15, 214...</td>\n",
       "      <td>blk_1870752360007129176</td>\n",
       "      <td>Normal</td>\n",
       "    </tr>\n",
       "    <tr>\n",
       "      <th>7319</th>\n",
       "      <td>&lt;|sep|&gt;6 &lt;|sep|&gt;0 /10.251.121.224:40809 /10.25...</td>\n",
       "      <td>[50277, 23, 209, 50277, 17, 1227, 740, 15, 214...</td>\n",
       "      <td>blk_-1999301527305082358</td>\n",
       "      <td>Normal</td>\n",
       "    </tr>\n",
       "    <tr>\n",
       "      <th>295080</th>\n",
       "      <td>&lt;|sep|&gt;0 /10.251.123.20:56258 /10.251.123.20:5...</td>\n",
       "      <td>[50277, 17, 1227, 740, 15, 21451, 15, 10683, 1...</td>\n",
       "      <td>blk_-2322520798745751605</td>\n",
       "      <td>Normal</td>\n",
       "    </tr>\n",
       "    <tr>\n",
       "      <th>64733</th>\n",
       "      <td>&lt;|sep|&gt;6 &lt;|sep|&gt;0 /10.251.107.242:55242 /10.25...</td>\n",
       "      <td>[50277, 23, 209, 50277, 17, 1227, 740, 15, 214...</td>\n",
       "      <td>blk_-4090429635427697097</td>\n",
       "      <td>Normal</td>\n",
       "    </tr>\n",
       "    <tr>\n",
       "      <th>...</th>\n",
       "      <td>...</td>\n",
       "      <td>...</td>\n",
       "      <td>...</td>\n",
       "      <td>...</td>\n",
       "    </tr>\n",
       "    <tr>\n",
       "      <th>424427</th>\n",
       "      <td>&lt;|sep|&gt;0 /10.251.37.240:42153 /10.251.37.240:5...</td>\n",
       "      <td>[50277, 17, 1227, 740, 15, 21451, 15, 1787, 15...</td>\n",
       "      <td>blk_4272247743717120753</td>\n",
       "      <td>Normal</td>\n",
       "    </tr>\n",
       "    <tr>\n",
       "      <th>403348</th>\n",
       "      <td>&lt;|sep|&gt;0 /10.251.215.50:36443 /10.251.215.50:5...</td>\n",
       "      <td>[50277, 17, 1227, 740, 15, 21451, 15, 21351, 1...</td>\n",
       "      <td>blk_1218092075075778522</td>\n",
       "      <td>Normal</td>\n",
       "    </tr>\n",
       "    <tr>\n",
       "      <th>253046</th>\n",
       "      <td>&lt;|sep|&gt;0 /10.250.11.53:53272 /10.250.11.53:500...</td>\n",
       "      <td>[50277, 17, 1227, 740, 15, 9519, 15, 883, 15, ...</td>\n",
       "      <td>blk_-4591257497708039986</td>\n",
       "      <td>Normal</td>\n",
       "    </tr>\n",
       "    <tr>\n",
       "      <th>495499</th>\n",
       "      <td>&lt;|sep|&gt;0 /10.251.125.174:53652 /10.251.125.174...</td>\n",
       "      <td>[50277, 17, 1227, 740, 15, 21451, 15, 9312, 15...</td>\n",
       "      <td>blk_-4092465791855115484</td>\n",
       "      <td>Normal</td>\n",
       "    </tr>\n",
       "    <tr>\n",
       "      <th>389461</th>\n",
       "      <td>&lt;|sep|&gt;0 /10.251.199.86:48472 /10.251.199.86:5...</td>\n",
       "      <td>[50277, 17, 1227, 740, 15, 21451, 15, 3031, 15...</td>\n",
       "      <td>blk_2863308070194174705</td>\n",
       "      <td>Normal</td>\n",
       "    </tr>\n",
       "  </tbody>\n",
       "</table>\n",
       "<p>460048 rows × 4 columns</p>\n",
       "</div>"
      ],
      "text/plain": [
       "                                            event_encoded  \\\n",
       "257494  <|sep|>0 /10.251.67.211:54457 /10.251.67.211:5...   \n",
       "49365   <|sep|>6 <|sep|>0 /10.251.106.37:36707 /10.251...   \n",
       "7319    <|sep|>6 <|sep|>0 /10.251.121.224:40809 /10.25...   \n",
       "295080  <|sep|>0 /10.251.123.20:56258 /10.251.123.20:5...   \n",
       "64733   <|sep|>6 <|sep|>0 /10.251.107.242:55242 /10.25...   \n",
       "...                                                   ...   \n",
       "424427  <|sep|>0 /10.251.37.240:42153 /10.251.37.240:5...   \n",
       "403348  <|sep|>0 /10.251.215.50:36443 /10.251.215.50:5...   \n",
       "253046  <|sep|>0 /10.250.11.53:53272 /10.250.11.53:500...   \n",
       "495499  <|sep|>0 /10.251.125.174:53652 /10.251.125.174...   \n",
       "389461  <|sep|>0 /10.251.199.86:48472 /10.251.199.86:5...   \n",
       "\n",
       "                                            encoded_block  \\\n",
       "257494  [50277, 17, 1227, 740, 15, 21451, 15, 2251, 15...   \n",
       "49365   [50277, 23, 209, 50277, 17, 1227, 740, 15, 214...   \n",
       "7319    [50277, 23, 209, 50277, 17, 1227, 740, 15, 214...   \n",
       "295080  [50277, 17, 1227, 740, 15, 21451, 15, 10683, 1...   \n",
       "64733   [50277, 23, 209, 50277, 17, 1227, 740, 15, 214...   \n",
       "...                                                   ...   \n",
       "424427  [50277, 17, 1227, 740, 15, 21451, 15, 1787, 15...   \n",
       "403348  [50277, 17, 1227, 740, 15, 21451, 15, 21351, 1...   \n",
       "253046  [50277, 17, 1227, 740, 15, 9519, 15, 883, 15, ...   \n",
       "495499  [50277, 17, 1227, 740, 15, 21451, 15, 9312, 15...   \n",
       "389461  [50277, 17, 1227, 740, 15, 21451, 15, 3031, 15...   \n",
       "\n",
       "                         BlockId   Label  \n",
       "257494  blk_-4040947678439826686  Normal  \n",
       "49365    blk_1870752360007129176  Normal  \n",
       "7319    blk_-1999301527305082358  Normal  \n",
       "295080  blk_-2322520798745751605  Normal  \n",
       "64733   blk_-4090429635427697097  Normal  \n",
       "...                          ...     ...  \n",
       "424427   blk_4272247743717120753  Normal  \n",
       "403348   blk_1218092075075778522  Normal  \n",
       "253046  blk_-4591257497708039986  Normal  \n",
       "495499  blk_-4092465791855115484  Normal  \n",
       "389461   blk_2863308070194174705  Normal  \n",
       "\n",
       "[460048 rows x 4 columns]"
      ]
     },
     "execution_count": 23,
     "metadata": {},
     "output_type": "execute_result"
    }
   ],
   "source": [
    "train_df"
   ]
  },
  {
   "cell_type": "code",
   "execution_count": 64,
   "metadata": {},
   "outputs": [],
   "source": [
    "# Set up training parameters\n",
    "BATCH_SIZE = 4  # Small batch size for M3\n",
    "MAX_LENGTH = 343  # Truncate sequences to manage memory\n",
    "LEARNING_RATE = 1e-4\n",
    "NUM_EPOCHS = 3\n",
    "\n"
   ]
  },
  {
   "cell_type": "code",
   "execution_count": 25,
   "metadata": {},
   "outputs": [
    {
     "name": "stderr",
     "output_type": "stream",
     "text": [
      "huggingface/tokenizers: The current process just got forked, after parallelism has already been used. Disabling parallelism to avoid deadlocks...\n",
      "To disable this warning, you can either:\n",
      "\t- Avoid using `tokenizers` before the fork if possible\n",
      "\t- Explicitly set the environment variable TOKENIZERS_PARALLELISM=(true | false)\n",
      "huggingface/tokenizers: The current process just got forked, after parallelism has already been used. Disabling parallelism to avoid deadlocks...\n",
      "To disable this warning, you can either:\n",
      "\t- Avoid using `tokenizers` before the fork if possible\n",
      "\t- Explicitly set the environment variable TOKENIZERS_PARALLELISM=(true | false)\n",
      "huggingface/tokenizers: The current process just got forked, after parallelism has already been used. Disabling parallelism to avoid deadlocks...\n",
      "To disable this warning, you can either:\n",
      "\t- Avoid using `tokenizers` before the fork if possible\n",
      "\t- Explicitly set the environment variable TOKENIZERS_PARALLELISM=(true | false)\n",
      "\u001b[34m\u001b[1mwandb\u001b[0m: Using wandb-core as the SDK backend.  Please refer to https://wandb.me/wandb-core for more information.\n",
      "huggingface/tokenizers: The current process just got forked, after parallelism has already been used. Disabling parallelism to avoid deadlocks...\n",
      "To disable this warning, you can either:\n",
      "\t- Avoid using `tokenizers` before the fork if possible\n",
      "\t- Explicitly set the environment variable TOKENIZERS_PARALLELISM=(true | false)\n",
      "\u001b[34m\u001b[1mwandb\u001b[0m: Currently logged in as: \u001b[33mhonicky\u001b[0m. Use \u001b[1m`wandb login --relogin`\u001b[0m to force relogin\n",
      "\u001b[34m\u001b[1mwandb\u001b[0m: \u001b[33mWARNING\u001b[0m If you're specifying your api key in code, ensure this code is not shared publicly.\n",
      "\u001b[34m\u001b[1mwandb\u001b[0m: \u001b[33mWARNING\u001b[0m Consider setting the WANDB_API_KEY environment variable, or running `wandb login` from the command line.\n",
      "\u001b[34m\u001b[1mwandb\u001b[0m: Appending key for api.wandb.ai to your netrc file: /Users/rj/.netrc\n"
     ]
    },
    {
     "data": {
      "text/plain": [
       "True"
      ]
     },
     "execution_count": 25,
     "metadata": {},
     "output_type": "execute_result"
    }
   ],
   "source": [
    "from dotenv import load_dotenv\n",
    "import os, wandb\n",
    "\n",
    "load_dotenv()\n",
    "\n",
    "wandb.login(key=os.getenv(\"WANDB_API_KEY\"))\n"
   ]
  },
  {
   "cell_type": "code",
   "execution_count": 68,
   "metadata": {},
   "outputs": [],
   "source": [
    "import gc\n",
    "import psutil\n",
    "\n",
    "def print_memory_stats(prefix=\"\"):\n",
    "    \"\"\"Detailed memory statistics\"\"\"\n",
    "    allocated = torch.mps.current_allocated_memory() / 1024**3\n",
    "    reserved = torch.mps.driver_allocated_memory() / 1024**3\n",
    "    \n",
    "    print(f\"\\n{prefix} Memory Status:\")\n",
    "    print(f\"├── Allocated: {allocated:.2f} GB (actively used by tensors)\")\n",
    "    print(f\"├── Reserved:  {reserved:.2f} GB (held by MPS driver)\")\n",
    "    print(f\"├── Cached:    {(reserved - allocated):.2f} GB (reserved - allocated)\")\n",
    "    \n",
    "    # System memory info\n",
    "    vm = psutil.virtual_memory()\n",
    "    print(f\"└── System Available: {vm.available / 1024**3:.2f} GB\")\n",
    "\n",
    "\n",
    "def get_gpu_memory_metrics():\n",
    "    \"\"\"Get system metrics for logging\"\"\"\n",
    "    return {        \n",
    "        # MPS (GPU) metrics\n",
    "        \"system/mps_memory_allocated_gb\": torch.mps.current_allocated_memory() / (1024**3),\n",
    "        \"system/mps_memory_reserved_gb\": torch.mps.driver_allocated_memory() / (1024**3),\n",
    "    }\n",
    "\n",
    "def clear_memory():\n",
    "    \"\"\"Explicitly clear memory\"\"\"\n",
    "    gc.collect()\n",
    "    torch.mps.empty_cache()\n",
    "    if hasattr(torch, 'cuda'):\n",
    "        torch.cuda.empty_cache()"
   ]
  },
  {
   "cell_type": "code",
   "execution_count": 65,
   "metadata": {},
   "outputs": [],
   "source": [
    "# Create DataLoader\n",
    "class HDFSDataset(torch.utils.data.Dataset):\n",
    "    def __init__(self, encoded_blocks, max_length):\n",
    "        self.encoded_blocks = encoded_blocks\n",
    "        self.max_length = max_length\n",
    "        \n",
    "    def __len__(self):\n",
    "        return len(self.encoded_blocks)\n",
    "    \n",
    "    def __getitem__(self, idx):\n",
    "        tokens = self.encoded_blocks.iloc[idx]['encoded_block']\n",
    "        # Truncate if needed\n",
    "        if len(tokens) > self.max_length:\n",
    "            tokens = tokens[:self.max_length]\n",
    "        \n",
    "        # Convert to tensor and pad\n",
    "        input_ids = torch.tensor(tokens, dtype=torch.long)\n",
    "        attention_mask = torch.ones_like(input_ids)\n",
    "        \n",
    "        return {\n",
    "            'input_ids': input_ids,\n",
    "            'attention_mask': attention_mask,\n",
    "        }\n",
    "\n",
    "# Create dataset and dataloader\n",
    "dataset = HDFSDataset(encoded_blocks_pdf, MAX_LENGTH)\n",
    "dataloader = torch.utils.data.DataLoader(\n",
    "    dataset, \n",
    "    batch_size=BATCH_SIZE,\n",
    "    shuffle=True,\n",
    "    collate_fn=lambda x: {\n",
    "        'input_ids': torch.nn.utils.rnn.pad_sequence(\n",
    "            [item['input_ids'] for item in x],\n",
    "            batch_first=True,\n",
    "            padding_value=tokenizer.pad_token_id if tokenizer.pad_token_id else 0\n",
    "        ),\n",
    "        'attention_mask': torch.nn.utils.rnn.pad_sequence(\n",
    "            [item['attention_mask'] for item in x],\n",
    "            batch_first=True,\n",
    "            padding_value=0\n",
    "        )\n",
    "    }\n",
    ")"
   ]
  },
  {
   "cell_type": "code",
   "execution_count": 69,
   "metadata": {},
   "outputs": [
    {
     "name": "stderr",
     "output_type": "stream",
     "text": [
      "wandb-core(79451) MallocStackLogging: can't turn off malloc stack logging because it was not enabled.\n"
     ]
    },
    {
     "name": "stdout",
     "output_type": "stream",
     "text": [
      "Testing batch sizes...\n",
      "\n",
      "Testing batch size 2\n",
      "\n",
      "Initial Memory Status:\n",
      "├── Allocated: 1.45 GB (actively used by tensors)\n",
      "├── Reserved:  10.61 GB (held by MPS driver)\n",
      "├── Cached:    9.16 GB (reserved - allocated)\n",
      "└── System Available: 2.13 GB\n",
      "Loading batch...\n",
      "After batch load MPS Memory:\n",
      "  Allocated: 1.45 GB\n",
      "  Reserved:  10.61 GB\n",
      "Moving to device...\n",
      "After moving to device MPS Memory:\n",
      "  Allocated: 1.45 GB\n",
      "  Reserved:  10.61 GB\n",
      "Forward pass...\n",
      "After forward pass MPS Memory:\n",
      "  Allocated: 1.86 GB\n",
      "  Reserved:  10.64 GB\n",
      "Backward pass...\n",
      "After backward pass MPS Memory:\n",
      "  Allocated: 1.67 GB\n",
      "  Reserved:  10.80 GB\n"
     ]
    },
    {
     "name": "stderr",
     "output_type": "stream",
     "text": [
      "wandb-core(79548) MallocStackLogging: can't turn off malloc stack logging because it was not enabled.\n",
      "wandb-core(79592) MallocStackLogging: can't turn off malloc stack logging because it was not enabled.\n",
      "wandb-core(79809) MallocStackLogging: can't turn off malloc stack logging because it was not enabled.\n",
      "wandb-core(80002) MallocStackLogging: can't turn off malloc stack logging because it was not enabled.\n"
     ]
    },
    {
     "name": "stdout",
     "output_type": "stream",
     "text": [
      "After cleanup MPS Memory:\n",
      "  Allocated: 1.50 GB\n",
      "  Reserved:  6.51 GB\n",
      "\n",
      "Testing batch size 4\n",
      "\n",
      "Initial Memory Status:\n",
      "├── Allocated: 1.50 GB (actively used by tensors)\n",
      "├── Reserved:  6.51 GB (held by MPS driver)\n",
      "├── Cached:    5.00 GB (reserved - allocated)\n",
      "└── System Available: 2.67 GB\n",
      "Loading batch...\n",
      "After batch load MPS Memory:\n",
      "  Allocated: 1.50 GB\n",
      "  Reserved:  6.51 GB\n",
      "Moving to device...\n",
      "After moving to device MPS Memory:\n",
      "  Allocated: 1.50 GB\n",
      "  Reserved:  6.51 GB\n",
      "Forward pass...\n",
      "After forward pass MPS Memory:\n",
      "  Allocated: 2.06 GB\n",
      "  Reserved:  6.57 GB\n",
      "Backward pass...\n",
      "After backward pass MPS Memory:\n",
      "  Allocated: 1.73 GB\n",
      "  Reserved:  7.78 GB\n",
      "After cleanup MPS Memory:"
     ]
    },
    {
     "name": "stderr",
     "output_type": "stream",
     "text": [
      "wandb-core(80128) MallocStackLogging: can't turn off malloc stack logging because it was not enabled.\n"
     ]
    },
    {
     "name": "stdout",
     "output_type": "stream",
     "text": [
      "\n",
      "  Allocated: 1.50 GB\n",
      "  Reserved:  6.51 GB\n",
      "\n",
      "Testing batch size 8\n",
      "\n",
      "Initial Memory Status:\n",
      "├── Allocated: 1.50 GB (actively used by tensors)\n",
      "├── Reserved:  6.51 GB (held by MPS driver)\n",
      "├── Cached:    5.00 GB (reserved - allocated)\n",
      "└── System Available: 3.12 GB\n",
      "Loading batch...\n",
      "After batch load MPS Memory:\n",
      "  Allocated: 1.50 GB\n",
      "  Reserved:  6.51 GB\n",
      "Moving to device...\n",
      "After moving to device MPS Memory:\n",
      "  Allocated: 1.50 GB\n",
      "  Reserved:  6.51 GB\n",
      "Forward pass...\n",
      "After forward pass MPS Memory:\n",
      "  Allocated: 2.92 GB\n",
      "  Reserved:  8.16 GB\n",
      "Backward pass...\n",
      "After backward pass MPS Memory:\n",
      "  Allocated: 2.05 GB\n",
      "  Reserved:  9.70 GB\n",
      "After cleanup MPS Memory:\n",
      "  Allocated: 1.50 GB\n",
      "  Reserved:  6.51 GB\n",
      "\n",
      "Testing batch size 16\n",
      "\n",
      "Initial Memory Status:\n",
      "├── Allocated: 1.50 GB (actively used by tensors)\n",
      "├── Reserved:  6.51 GB (held by MPS driver)\n",
      "├── Cached:    5.00 GB (reserved - allocated)\n",
      "└── System Available: 3.18 GB\n",
      "Loading batch...\n",
      "After batch load MPS Memory:\n",
      "  Allocated: 1.50 GB\n",
      "  Reserved:  6.51 GB\n",
      "Moving to device...\n",
      "After moving to device MPS Memory:\n",
      "  Allocated: 1.50 GB\n",
      "  Reserved:  6.51 GB\n",
      "Forward pass...\n"
     ]
    },
    {
     "name": "stderr",
     "output_type": "stream",
     "text": [
      "wandb-core(80175) MallocStackLogging: can't turn off malloc stack logging because it was not enabled.\n"
     ]
    },
    {
     "name": "stdout",
     "output_type": "stream",
     "text": [
      "After forward pass MPS Memory:\n",
      "  Allocated: 4.33 GB\n",
      "  Reserved:  10.83 GB\n",
      "Backward pass...\n",
      "After backward pass MPS Memory:\n",
      "  Allocated: 2.60 GB\n",
      "  Reserved:  13.91 GB\n"
     ]
    },
    {
     "name": "stderr",
     "output_type": "stream",
     "text": [
      "wandb-core(80181) MallocStackLogging: can't turn off malloc stack logging because it was not enabled.\n",
      "wandb-core(80238) MallocStackLogging: can't turn off malloc stack logging because it was not enabled.\n"
     ]
    },
    {
     "name": "stdout",
     "output_type": "stream",
     "text": [
      "After cleanup MPS Memory:\n",
      "  Allocated: 1.50 GB\n",
      "  Reserved:  6.51 GB\n",
      "\n",
      "Testing batch size 32\n",
      "\n",
      "Initial Memory Status:\n",
      "├── Allocated: 1.50 GB (actively used by tensors)\n",
      "├── Reserved:  6.51 GB (held by MPS driver)\n",
      "├── Cached:    5.00 GB (reserved - allocated)\n",
      "└── System Available: 3.09 GB\n",
      "Loading batch...\n",
      "After batch load MPS Memory:\n",
      "  Allocated: 1.50 GB\n",
      "  Reserved:  6.51 GB\n",
      "Moving to device...\n",
      "After moving to device MPS Memory:\n",
      "  Allocated: 1.50 GB\n",
      "  Reserved:  6.51 GB\n",
      "Forward pass...\n",
      "After forward pass MPS Memory:\n",
      "  Allocated: 6.63 GB\n",
      "  Reserved:  15.04 GB\n",
      "Backward pass...\n"
     ]
    },
    {
     "name": "stderr",
     "output_type": "stream",
     "text": [
      "wandb-core(80331) MallocStackLogging: can't turn off malloc stack logging because it was not enabled.\n",
      "wandb-core(80337) MallocStackLogging: can't turn off malloc stack logging because it was not enabled.\n"
     ]
    },
    {
     "name": "stdout",
     "output_type": "stream",
     "text": [
      "\n",
      "Batch size 32 failed!\n",
      "Error: MPS backend out of memory (MPS allocated: 7.27 GB, other allocations: 5.73 GB, max allowed: 18.13 GB). Tried to allocate 2.06 GB on private pool. Use PYTORCH_MPS_HIGH_WATERMARK_RATIO=0.0 to disable up...\n",
      "Optimal batch size: 16\n"
     ]
    }
   ],
   "source": [
    "import numpy as np\n",
    "\n",
    "device = torch.device(\"mps\" if torch.backends.mps.is_available() else \"cpu\")\n",
    "model = get_model().to(device)\n",
    "\n",
    "def find_optimal_batch_size(start_size=1, max_size=32):\n",
    "    \"\"\"Find the largest batch size that fits in memory with detailed logging\"\"\"\n",
    "    \n",
    "    print(\"Testing batch sizes...\")\n",
    "    for batch_size in [2**i for i in range(start_size, int(np.log2(max_size)) + 1)]:\n",
    "        try:\n",
    "            print(f\"\\nTesting batch size {batch_size}\")\n",
    "            print_memory_stats(\"Initial\")\n",
    "            \n",
    "            # Create test dataloader\n",
    "            test_loader = torch.utils.data.DataLoader(\n",
    "                dataset,\n",
    "                batch_size=batch_size,\n",
    "                shuffle=True,\n",
    "                collate_fn=dataloader.collate_fn\n",
    "            )\n",
    "            \n",
    "            # Get batch\n",
    "            print(\"Loading batch...\")\n",
    "            batch = next(iter(test_loader))\n",
    "            print_memory_stats(\"After batch load\")\n",
    "            \n",
    "            # Move to device\n",
    "            print(\"Moving to device...\")\n",
    "            input_ids = batch['input_ids'].to(device)\n",
    "            attention_mask = batch['attention_mask'].to(device)\n",
    "            print_memory_stats(\"After moving to device\")\n",
    "            \n",
    "            # Forward pass\n",
    "            print(\"Forward pass...\")\n",
    "            outputs = model(\n",
    "                input_ids=input_ids,\n",
    "                attention_mask=attention_mask,\n",
    "                labels=input_ids\n",
    "            )\n",
    "            print_memory_stats(\"After forward pass\")\n",
    "            \n",
    "            # Backward pass\n",
    "            print(\"Backward pass...\")\n",
    "            loss = outputs.loss\n",
    "            loss.backward()\n",
    "            print_memory_stats(\"After backward pass\")\n",
    "            \n",
    "            # Clean up\n",
    "            del outputs, loss, input_ids, attention_mask\n",
    "            torch.mps.empty_cache()\n",
    "            gc.collect()\n",
    "            print_memory_stats(\"After cleanup\")\n",
    "            \n",
    "        except RuntimeError as e:\n",
    "            print(f\"\\nBatch size {batch_size} failed!\")\n",
    "            print(f\"Error: {str(e)[:200]}...\")\n",
    "            return batch_size//2\n",
    "            \n",
    "    return max_size\n",
    "\n",
    "# Find optimal batch size with detailed memory tracking\n",
    "optimal_batch_size = find_optimal_batch_size()\n",
    "print(f\"Optimal batch size: {optimal_batch_size}\")\n"
   ]
  },
  {
   "cell_type": "code",
   "execution_count": 38,
   "metadata": {},
   "outputs": [
    {
     "name": "stdout",
     "output_type": "stream",
     "text": [
      "1.38 GB\n"
     ]
    }
   ],
   "source": [
    "print(f\"{torch.mps.current_allocated_memory() / 1024**3:.2f} GB\")"
   ]
  },
  {
   "cell_type": "code",
   "execution_count": 27,
   "metadata": {},
   "outputs": [],
   "source": [
    "clear_memory()"
   ]
  },
  {
   "cell_type": "code",
   "execution_count": 70,
   "metadata": {},
   "outputs": [
    {
     "name": "stderr",
     "output_type": "stream",
     "text": [
      "wandb-core(81352) MallocStackLogging: can't turn off malloc stack logging because it was not enabled.\n"
     ]
    },
    {
     "data": {
      "text/html": [
       "Finishing last run (ID:9br816eq) before initializing another..."
      ],
      "text/plain": [
       "<IPython.core.display.HTML object>"
      ]
     },
     "metadata": {},
     "output_type": "display_data"
    },
    {
     "data": {
      "text/html": [
       "\n",
       "    <style>\n",
       "        .wandb-row {\n",
       "            display: flex;\n",
       "            flex-direction: row;\n",
       "            flex-wrap: wrap;\n",
       "            justify-content: flex-start;\n",
       "            width: 100%;\n",
       "        }\n",
       "        .wandb-col {\n",
       "            display: flex;\n",
       "            flex-direction: column;\n",
       "            flex-basis: 100%;\n",
       "            flex: 1;\n",
       "            padding: 10px;\n",
       "        }\n",
       "    </style>\n",
       "<div class=\"wandb-row\"><div class=\"wandb-col\"><h3>Run history:</h3><br/><table class=\"wandb\"><tr><td>batch</td><td>▁▁▁▁▁▂▂▂▂▂▃▄▄▄▄▅▅▅▅▅▅▅▆▆▆▆▆▇▇▇▇▇▇▇▇█████</td></tr><tr><td>batch_loss</td><td>█▃▂▂▂▁▂▂▂▂▂▂▁▁▂▂▁▂▁▂▁▁▁▁▂▁▂▂▁▁▁▁▂▁▁▁▁▁▂▂</td></tr><tr><td>epoch</td><td>▁▁▁▁▁▁▁▁▁▁▁▁▁▁▁▁▁▁▁▁▁▁▁▁▁▁▁▁▁▁▁▁▁▁▁▁▁▁▁▁</td></tr><tr><td>system/mps_memory_allocated_gb</td><td>▂▄▃▄▅▄▄▁▁▄▄▃▂▃▆▃█▁▃▂▁▃▂▂▄▃▃▃▁▅▅▃▂▄█▆▄▂▅▅</td></tr><tr><td>system/mps_memory_reserved_gb</td><td>▁▄▅▄▄▆▆▆▄▄▄▅▅▅▅▆▅▆▆▆▆▇▆▆▆▆▆▇▇▇▇▆▆▆██▇▇▇▇</td></tr></table><br/></div><div class=\"wandb-col\"><h3>Run summary:</h3><br/><table class=\"wandb\"><tr><td>batch</td><td>6118</td></tr><tr><td>batch_loss</td><td>0.18284</td></tr><tr><td>epoch</td><td>1</td></tr><tr><td>system/mps_memory_allocated_gb</td><td>0.64247</td></tr><tr><td>system/mps_memory_reserved_gb</td><td>17.45039</td></tr></table><br/></div></div>"
      ],
      "text/plain": [
       "<IPython.core.display.HTML object>"
      ]
     },
     "metadata": {},
     "output_type": "display_data"
    },
    {
     "data": {
      "text/html": [
       " View run <strong style=\"color:#cdcd00\">electric-snowball-8</strong> at: <a href='https://wandb.ai/honicky/log-analysis-pythia/runs/9br816eq' target=\"_blank\">https://wandb.ai/honicky/log-analysis-pythia/runs/9br816eq</a><br/> View project at: <a href='https://wandb.ai/honicky/log-analysis-pythia' target=\"_blank\">https://wandb.ai/honicky/log-analysis-pythia</a><br/>Synced 5 W&B file(s), 0 media file(s), 0 artifact file(s) and 0 other file(s)"
      ],
      "text/plain": [
       "<IPython.core.display.HTML object>"
      ]
     },
     "metadata": {},
     "output_type": "display_data"
    },
    {
     "data": {
      "text/html": [
       "Find logs at: <code>./wandb/run-20241129_180256-9br816eq/logs</code>"
      ],
      "text/plain": [
       "<IPython.core.display.HTML object>"
      ]
     },
     "metadata": {},
     "output_type": "display_data"
    },
    {
     "data": {
      "text/html": [
       "Successfully finished last run (ID:9br816eq). Initializing new run:<br/>"
      ],
      "text/plain": [
       "<IPython.core.display.HTML object>"
      ]
     },
     "metadata": {},
     "output_type": "display_data"
    },
    {
     "name": "stderr",
     "output_type": "stream",
     "text": [
      "wandb-core(81483) MallocStackLogging: can't turn off malloc stack logging because it was not enabled.\n",
      "wandb-core(81484) MallocStackLogging: can't turn off malloc stack logging because it was not enabled.\n"
     ]
    },
    {
     "data": {
      "text/html": [
       "Tracking run with wandb version 0.18.7"
      ],
      "text/plain": [
       "<IPython.core.display.HTML object>"
      ]
     },
     "metadata": {},
     "output_type": "display_data"
    },
    {
     "data": {
      "text/html": [
       "Run data is saved locally in <code>/Users/rj/personal/log_analysis/wandb/run-20241129_202443-nx80ymjy</code>"
      ],
      "text/plain": [
       "<IPython.core.display.HTML object>"
      ]
     },
     "metadata": {},
     "output_type": "display_data"
    },
    {
     "data": {
      "text/html": [
       "Syncing run <strong><a href='https://wandb.ai/honicky/log-analysis-pythia/runs/nx80ymjy' target=\"_blank\">jumping-rain-9</a></strong> to <a href='https://wandb.ai/honicky/log-analysis-pythia' target=\"_blank\">Weights & Biases</a> (<a href='https://wandb.me/developer-guide' target=\"_blank\">docs</a>)<br/>"
      ],
      "text/plain": [
       "<IPython.core.display.HTML object>"
      ]
     },
     "metadata": {},
     "output_type": "display_data"
    },
    {
     "data": {
      "text/html": [
       " View project at <a href='https://wandb.ai/honicky/log-analysis-pythia' target=\"_blank\">https://wandb.ai/honicky/log-analysis-pythia</a>"
      ],
      "text/plain": [
       "<IPython.core.display.HTML object>"
      ]
     },
     "metadata": {},
     "output_type": "display_data"
    },
    {
     "data": {
      "text/html": [
       " View run at <a href='https://wandb.ai/honicky/log-analysis-pythia/runs/nx80ymjy' target=\"_blank\">https://wandb.ai/honicky/log-analysis-pythia/runs/nx80ymjy</a>"
      ],
      "text/plain": [
       "<IPython.core.display.HTML object>"
      ]
     },
     "metadata": {},
     "output_type": "display_data"
    },
    {
     "name": "stderr",
     "output_type": "stream",
     "text": [
      "wandb-core(81508) MallocStackLogging: can't turn off malloc stack logging because it was not enabled.\n",
      "wandb-core(81521) MallocStackLogging: can't turn off malloc stack logging because it was not enabled.\n"
     ]
    },
    {
     "name": "stdout",
     "output_type": "stream",
     "text": [
      "Epoch 1, Batch 0, Loss: 115.7910\n"
     ]
    },
    {
     "name": "stderr",
     "output_type": "stream",
     "text": [
      "wandb-core(81595) MallocStackLogging: can't turn off malloc stack logging because it was not enabled.\n",
      "wandb-core(81768) MallocStackLogging: can't turn off malloc stack logging because it was not enabled.\n",
      "wandb-core(81819) MallocStackLogging: can't turn off malloc stack logging because it was not enabled.\n",
      "wandb-core(81824) MallocStackLogging: can't turn off malloc stack logging because it was not enabled.\n",
      "wandb-core(81864) MallocStackLogging: can't turn off malloc stack logging because it was not enabled.\n",
      "wandb-core(82012) MallocStackLogging: can't turn off malloc stack logging because it was not enabled.\n",
      "wandb-core(82020) MallocStackLogging: can't turn off malloc stack logging because it was not enabled.\n",
      "wandb-core(82033) MallocStackLogging: can't turn off malloc stack logging because it was not enabled.\n",
      "wandb-core(82037) MallocStackLogging: can't turn off malloc stack logging because it was not enabled.\n",
      "wandb-core(82049) MallocStackLogging: can't turn off malloc stack logging because it was not enabled.\n",
      "wandb-core(82083) MallocStackLogging: can't turn off malloc stack logging because it was not enabled.\n",
      "wandb-core(82087) MallocStackLogging: can't turn off malloc stack logging because it was not enabled.\n",
      "wandb-core(82143) MallocStackLogging: can't turn off malloc stack logging because it was not enabled.\n",
      "wandb-core(82331) MallocStackLogging: can't turn off malloc stack logging because it was not enabled.\n",
      "wandb-core(82471) MallocStackLogging: can't turn off malloc stack logging because it was not enabled.\n",
      "wandb-core(82600) MallocStackLogging: can't turn off malloc stack logging because it was not enabled.\n",
      "wandb-core(82657) MallocStackLogging: can't turn off malloc stack logging because it was not enabled.\n",
      "wandb-core(82668) MallocStackLogging: can't turn off malloc stack logging because it was not enabled.\n",
      "wandb-core(82730) MallocStackLogging: can't turn off malloc stack logging because it was not enabled.\n",
      "wandb-core(82736) MallocStackLogging: can't turn off malloc stack logging because it was not enabled.\n",
      "wandb-core(83041) MallocStackLogging: can't turn off malloc stack logging because it was not enabled.\n",
      "wandb-core(83162) MallocStackLogging: can't turn off malloc stack logging because it was not enabled.\n",
      "wandb-core(83360) MallocStackLogging: can't turn off malloc stack logging because it was not enabled.\n",
      "wandb-core(83379) MallocStackLogging: can't turn off malloc stack logging because it was not enabled.\n",
      "wandb-core(83505) MallocStackLogging: can't turn off malloc stack logging because it was not enabled.\n",
      "wandb-core(83621) MallocStackLogging: can't turn off malloc stack logging because it was not enabled.\n"
     ]
    },
    {
     "name": "stdout",
     "output_type": "stream",
     "text": [
      "Epoch 1, Batch 100, Loss: 1.0232\n"
     ]
    },
    {
     "name": "stderr",
     "output_type": "stream",
     "text": [
      "wandb-core(83669) MallocStackLogging: can't turn off malloc stack logging because it was not enabled.\n",
      "wandb-core(83686) MallocStackLogging: can't turn off malloc stack logging because it was not enabled.\n",
      "wandb-core(83754) MallocStackLogging: can't turn off malloc stack logging because it was not enabled.\n",
      "wandb-core(83861) MallocStackLogging: can't turn off malloc stack logging because it was not enabled.\n",
      "wandb-core(83925) MallocStackLogging: can't turn off malloc stack logging because it was not enabled.\n",
      "wandb-core(83963) MallocStackLogging: can't turn off malloc stack logging because it was not enabled.\n",
      "wandb-core(83969) MallocStackLogging: can't turn off malloc stack logging because it was not enabled.\n",
      "wandb-core(83991) MallocStackLogging: can't turn off malloc stack logging because it was not enabled.\n",
      "wandb-core(84001) MallocStackLogging: can't turn off malloc stack logging because it was not enabled.\n",
      "wandb-core(84009) MallocStackLogging: can't turn off malloc stack logging because it was not enabled.\n",
      "wandb-core(84027) MallocStackLogging: can't turn off malloc stack logging because it was not enabled.\n",
      "wandb-core(84033) MallocStackLogging: can't turn off malloc stack logging because it was not enabled.\n",
      "wandb-core(84044) MallocStackLogging: can't turn off malloc stack logging because it was not enabled.\n",
      "wandb-core(84118) MallocStackLogging: can't turn off malloc stack logging because it was not enabled.\n",
      "wandb-core(84153) MallocStackLogging: can't turn off malloc stack logging because it was not enabled.\n",
      "wandb-core(84170) MallocStackLogging: can't turn off malloc stack logging because it was not enabled.\n",
      "wandb-core(84179) MallocStackLogging: can't turn off malloc stack logging because it was not enabled.\n",
      "wandb-core(84210) MallocStackLogging: can't turn off malloc stack logging because it was not enabled.\n",
      "wandb-core(84218) MallocStackLogging: can't turn off malloc stack logging because it was not enabled.\n",
      "wandb-core(84238) MallocStackLogging: can't turn off malloc stack logging because it was not enabled.\n",
      "wandb-core(84326) MallocStackLogging: can't turn off malloc stack logging because it was not enabled.\n",
      "wandb-core(84356) MallocStackLogging: can't turn off malloc stack logging because it was not enabled.\n",
      "wandb-core(84369) MallocStackLogging: can't turn off malloc stack logging because it was not enabled.\n",
      "wandb-core(84375) MallocStackLogging: can't turn off malloc stack logging because it was not enabled.\n",
      "wandb-core(84553) MallocStackLogging: can't turn off malloc stack logging because it was not enabled.\n",
      "wandb-core(84623) MallocStackLogging: can't turn off malloc stack logging because it was not enabled.\n",
      "wandb-core(84700) MallocStackLogging: can't turn off malloc stack logging because it was not enabled.\n",
      "wandb-core(84875) MallocStackLogging: can't turn off malloc stack logging because it was not enabled.\n",
      "wandb-core(84884) MallocStackLogging: can't turn off malloc stack logging because it was not enabled.\n",
      "wandb-core(84895) MallocStackLogging: can't turn off malloc stack logging because it was not enabled.\n",
      "wandb-core(84901) MallocStackLogging: can't turn off malloc stack logging because it was not enabled.\n",
      "wandb-core(85085) MallocStackLogging: can't turn off malloc stack logging because it was not enabled.\n"
     ]
    },
    {
     "name": "stdout",
     "output_type": "stream",
     "text": [
      "Epoch 1, Batch 200, Loss: 0.6087\n"
     ]
    },
    {
     "name": "stderr",
     "output_type": "stream",
     "text": [
      "wandb-core(85111) MallocStackLogging: can't turn off malloc stack logging because it was not enabled.\n",
      "wandb-core(85394) MallocStackLogging: can't turn off malloc stack logging because it was not enabled.\n",
      "wandb-core(85586) MallocStackLogging: can't turn off malloc stack logging because it was not enabled.\n",
      "wandb-core(85721) MallocStackLogging: can't turn off malloc stack logging because it was not enabled.\n",
      "wandb-core(85790) MallocStackLogging: can't turn off malloc stack logging because it was not enabled.\n",
      "wandb-core(85874) MallocStackLogging: can't turn off malloc stack logging because it was not enabled.\n",
      "wandb-core(86344) MallocStackLogging: can't turn off malloc stack logging because it was not enabled.\n",
      "wandb-core(86544) MallocStackLogging: can't turn off malloc stack logging because it was not enabled.\n",
      "wandb-core(86725) MallocStackLogging: can't turn off malloc stack logging because it was not enabled.\n",
      "wandb-core(86907) MallocStackLogging: can't turn off malloc stack logging because it was not enabled.\n",
      "wandb-core(86935) MallocStackLogging: can't turn off malloc stack logging because it was not enabled.\n",
      "wandb-core(87020) MallocStackLogging: can't turn off malloc stack logging because it was not enabled.\n",
      "wandb-core(87110) MallocStackLogging: can't turn off malloc stack logging because it was not enabled.\n",
      "wandb-core(87277) MallocStackLogging: can't turn off malloc stack logging because it was not enabled.\n",
      "wandb-core(87544) MallocStackLogging: can't turn off malloc stack logging because it was not enabled.\n",
      "wandb-core(87560) MallocStackLogging: can't turn off malloc stack logging because it was not enabled.\n",
      "wandb-core(87595) MallocStackLogging: can't turn off malloc stack logging because it was not enabled.\n",
      "wandb-core(87629) MallocStackLogging: can't turn off malloc stack logging because it was not enabled.\n",
      "wandb-core(87768) MallocStackLogging: can't turn off malloc stack logging because it was not enabled.\n",
      "wandb-core(87806) MallocStackLogging: can't turn off malloc stack logging because it was not enabled.\n",
      "wandb-core(87941) MallocStackLogging: can't turn off malloc stack logging because it was not enabled.\n",
      "wandb-core(88050) MallocStackLogging: can't turn off malloc stack logging because it was not enabled.\n",
      "wandb-core(88308) MallocStackLogging: can't turn off malloc stack logging because it was not enabled.\n",
      "wandb-core(88324) MallocStackLogging: can't turn off malloc stack logging because it was not enabled.\n",
      "wandb-core(88348) MallocStackLogging: can't turn off malloc stack logging because it was not enabled.\n",
      "wandb-core(88400) MallocStackLogging: can't turn off malloc stack logging because it was not enabled.\n",
      "wandb-core(88545) MallocStackLogging: can't turn off malloc stack logging because it was not enabled.\n"
     ]
    },
    {
     "name": "stdout",
     "output_type": "stream",
     "text": [
      "Epoch 1, Batch 300, Loss: 0.5559\n"
     ]
    },
    {
     "name": "stderr",
     "output_type": "stream",
     "text": [
      "wandb-core(88762) MallocStackLogging: can't turn off malloc stack logging because it was not enabled.\n",
      "wandb-core(89079) MallocStackLogging: can't turn off malloc stack logging because it was not enabled.\n",
      "wandb-core(89301) MallocStackLogging: can't turn off malloc stack logging because it was not enabled.\n",
      "wandb-core(89318) MallocStackLogging: can't turn off malloc stack logging because it was not enabled.\n",
      "wandb-core(89324) MallocStackLogging: can't turn off malloc stack logging because it was not enabled.\n",
      "wandb-core(89419) MallocStackLogging: can't turn off malloc stack logging because it was not enabled.\n",
      "wandb-core(89442) MallocStackLogging: can't turn off malloc stack logging because it was not enabled.\n",
      "wandb-core(89621) MallocStackLogging: can't turn off malloc stack logging because it was not enabled.\n",
      "wandb-core(89655) MallocStackLogging: can't turn off malloc stack logging because it was not enabled.\n",
      "wandb-core(89680) MallocStackLogging: can't turn off malloc stack logging because it was not enabled.\n",
      "wandb-core(89869) MallocStackLogging: can't turn off malloc stack logging because it was not enabled.\n",
      "wandb-core(89908) MallocStackLogging: can't turn off malloc stack logging because it was not enabled.\n",
      "wandb-core(89954) MallocStackLogging: can't turn off malloc stack logging because it was not enabled.\n",
      "wandb-core(89962) MallocStackLogging: can't turn off malloc stack logging because it was not enabled.\n",
      "wandb-core(89971) MallocStackLogging: can't turn off malloc stack logging because it was not enabled.\n",
      "wandb-core(89980) MallocStackLogging: can't turn off malloc stack logging because it was not enabled.\n",
      "wandb-core(90149) MallocStackLogging: can't turn off malloc stack logging because it was not enabled.\n",
      "wandb-core(90258) MallocStackLogging: can't turn off malloc stack logging because it was not enabled.\n",
      "wandb-core(90264) MallocStackLogging: can't turn off malloc stack logging because it was not enabled.\n",
      "wandb-core(90267) MallocStackLogging: can't turn off malloc stack logging because it was not enabled.\n",
      "wandb-core(90274) MallocStackLogging: can't turn off malloc stack logging because it was not enabled.\n",
      "wandb-core(90293) MallocStackLogging: can't turn off malloc stack logging because it was not enabled.\n",
      "wandb-core(91550) MallocStackLogging: can't turn off malloc stack logging because it was not enabled.\n",
      "wandb-core(92712) MallocStackLogging: can't turn off malloc stack logging because it was not enabled.\n",
      "wandb-core(92777) MallocStackLogging: can't turn off malloc stack logging because it was not enabled.\n",
      "wandb-core(92884) MallocStackLogging: can't turn off malloc stack logging because it was not enabled.\n",
      "wandb-core(92955) MallocStackLogging: can't turn off malloc stack logging because it was not enabled.\n",
      "wandb-core(92978) MallocStackLogging: can't turn off malloc stack logging because it was not enabled.\n",
      "wandb-core(93012) MallocStackLogging: can't turn off malloc stack logging because it was not enabled.\n",
      "wandb-core(93055) MallocStackLogging: can't turn off malloc stack logging because it was not enabled.\n",
      "wandb-core(93413) MallocStackLogging: can't turn off malloc stack logging because it was not enabled.\n"
     ]
    },
    {
     "name": "stdout",
     "output_type": "stream",
     "text": [
      "Epoch 1, Batch 400, Loss: 0.4365\n"
     ]
    },
    {
     "name": "stderr",
     "output_type": "stream",
     "text": [
      "wandb-core(93438) MallocStackLogging: can't turn off malloc stack logging because it was not enabled.\n",
      "wandb-core(93446) MallocStackLogging: can't turn off malloc stack logging because it was not enabled.\n",
      "wandb-core(93532) MallocStackLogging: can't turn off malloc stack logging because it was not enabled.\n",
      "wandb-core(93634) MallocStackLogging: can't turn off malloc stack logging because it was not enabled.\n",
      "wandb-core(93720) MallocStackLogging: can't turn off malloc stack logging because it was not enabled.\n",
      "wandb-core(93767) MallocStackLogging: can't turn off malloc stack logging because it was not enabled.\n",
      "wandb-core(93800) MallocStackLogging: can't turn off malloc stack logging because it was not enabled.\n",
      "wandb-core(93841) MallocStackLogging: can't turn off malloc stack logging because it was not enabled.\n",
      "wandb-core(93887) MallocStackLogging: can't turn off malloc stack logging because it was not enabled.\n"
     ]
    },
    {
     "name": "stdout",
     "output_type": "stream",
     "text": [
      "Epoch 1, Batch 500, Loss: 0.3324\n"
     ]
    },
    {
     "name": "stderr",
     "output_type": "stream",
     "text": [
      "wandb-core(93900) MallocStackLogging: can't turn off malloc stack logging because it was not enabled.\n",
      "wandb-core(93919) MallocStackLogging: can't turn off malloc stack logging because it was not enabled.\n",
      "wandb-core(94096) MallocStackLogging: can't turn off malloc stack logging because it was not enabled.\n",
      "wandb-core(94167) MallocStackLogging: can't turn off malloc stack logging because it was not enabled.\n",
      "wandb-core(94171) MallocStackLogging: can't turn off malloc stack logging because it was not enabled.\n",
      "wandb-core(94182) MallocStackLogging: can't turn off malloc stack logging because it was not enabled.\n",
      "wandb-core(94289) MallocStackLogging: can't turn off malloc stack logging because it was not enabled.\n",
      "wandb-core(94295) MallocStackLogging: can't turn off malloc stack logging because it was not enabled.\n",
      "wandb-core(94320) MallocStackLogging: can't turn off malloc stack logging because it was not enabled.\n",
      "wandb-core(94324) MallocStackLogging: can't turn off malloc stack logging because it was not enabled.\n",
      "wandb-core(94338) MallocStackLogging: can't turn off malloc stack logging because it was not enabled.\n",
      "wandb-core(94401) MallocStackLogging: can't turn off malloc stack logging because it was not enabled.\n"
     ]
    },
    {
     "name": "stdout",
     "output_type": "stream",
     "text": [
      "Epoch 1, Batch 600, Loss: 0.3675\n"
     ]
    },
    {
     "name": "stderr",
     "output_type": "stream",
     "text": [
      "wandb-core(94482) MallocStackLogging: can't turn off malloc stack logging because it was not enabled.\n",
      "wandb-core(94501) MallocStackLogging: can't turn off malloc stack logging because it was not enabled.\n",
      "wandb-core(94507) MallocStackLogging: can't turn off malloc stack logging because it was not enabled.\n",
      "wandb-core(94654) MallocStackLogging: can't turn off malloc stack logging because it was not enabled.\n",
      "wandb-core(94786) MallocStackLogging: can't turn off malloc stack logging because it was not enabled.\n",
      "wandb-core(94859) MallocStackLogging: can't turn off malloc stack logging because it was not enabled.\n",
      "wandb-core(94952) MallocStackLogging: can't turn off malloc stack logging because it was not enabled.\n",
      "wandb-core(95047) MallocStackLogging: can't turn off malloc stack logging because it was not enabled.\n",
      "wandb-core(95202) MallocStackLogging: can't turn off malloc stack logging because it was not enabled.\n",
      "wandb-core(95396) MallocStackLogging: can't turn off malloc stack logging because it was not enabled.\n"
     ]
    },
    {
     "name": "stdout",
     "output_type": "stream",
     "text": [
      "Epoch 1, Batch 700, Loss: 0.3071\n"
     ]
    },
    {
     "name": "stderr",
     "output_type": "stream",
     "text": [
      "wandb-core(95447) MallocStackLogging: can't turn off malloc stack logging because it was not enabled.\n",
      "wandb-core(95498) MallocStackLogging: can't turn off malloc stack logging because it was not enabled.\n",
      "wandb-core(95609) MallocStackLogging: can't turn off malloc stack logging because it was not enabled.\n",
      "wandb-core(95695) MallocStackLogging: can't turn off malloc stack logging because it was not enabled.\n",
      "wandb-core(95741) MallocStackLogging: can't turn off malloc stack logging because it was not enabled.\n",
      "wandb-core(95815) MallocStackLogging: can't turn off malloc stack logging because it was not enabled.\n",
      "wandb-core(95936) MallocStackLogging: can't turn off malloc stack logging because it was not enabled.\n",
      "wandb-core(96229) MallocStackLogging: can't turn off malloc stack logging because it was not enabled.\n"
     ]
    },
    {
     "name": "stdout",
     "output_type": "stream",
     "text": [
      "Epoch 1, Batch 800, Loss: 0.3707\n"
     ]
    },
    {
     "name": "stderr",
     "output_type": "stream",
     "text": [
      "wandb-core(96237) MallocStackLogging: can't turn off malloc stack logging because it was not enabled.\n",
      "wandb-core(96244) MallocStackLogging: can't turn off malloc stack logging because it was not enabled.\n",
      "wandb-core(96249) MallocStackLogging: can't turn off malloc stack logging because it was not enabled.\n",
      "wandb-core(96298) MallocStackLogging: can't turn off malloc stack logging because it was not enabled.\n",
      "wandb-core(96708) MallocStackLogging: can't turn off malloc stack logging because it was not enabled.\n",
      "wandb-core(96714) MallocStackLogging: can't turn off malloc stack logging because it was not enabled.\n",
      "wandb-core(97074) MallocStackLogging: can't turn off malloc stack logging because it was not enabled.\n",
      "wandb-core(97084) MallocStackLogging: can't turn off malloc stack logging because it was not enabled.\n",
      "wandb-core(97140) MallocStackLogging: can't turn off malloc stack logging because it was not enabled.\n",
      "wandb-core(97320) MallocStackLogging: can't turn off malloc stack logging because it was not enabled.\n",
      "wandb-core(97364) MallocStackLogging: can't turn off malloc stack logging because it was not enabled.\n",
      "wandb-core(97460) MallocStackLogging: can't turn off malloc stack logging because it was not enabled.\n"
     ]
    },
    {
     "name": "stdout",
     "output_type": "stream",
     "text": [
      "Epoch 1, Batch 900, Loss: 0.3009\n"
     ]
    },
    {
     "name": "stderr",
     "output_type": "stream",
     "text": [
      "wandb-core(97485) MallocStackLogging: can't turn off malloc stack logging because it was not enabled.\n",
      "wandb-core(97517) MallocStackLogging: can't turn off malloc stack logging because it was not enabled.\n",
      "wandb-core(97569) MallocStackLogging: can't turn off malloc stack logging because it was not enabled.\n",
      "wandb-core(97648) MallocStackLogging: can't turn off malloc stack logging because it was not enabled.\n",
      "wandb-core(97908) MallocStackLogging: can't turn off malloc stack logging because it was not enabled.\n",
      "wandb-core(97917) MallocStackLogging: can't turn off malloc stack logging because it was not enabled.\n",
      "wandb-core(97958) MallocStackLogging: can't turn off malloc stack logging because it was not enabled.\n",
      "wandb-core(97965) MallocStackLogging: can't turn off malloc stack logging because it was not enabled.\n",
      "wandb-core(97970) MallocStackLogging: can't turn off malloc stack logging because it was not enabled.\n",
      "wandb-core(98019) MallocStackLogging: can't turn off malloc stack logging because it was not enabled.\n",
      "wandb-core(98038) MallocStackLogging: can't turn off malloc stack logging because it was not enabled.\n",
      "wandb-core(98093) MallocStackLogging: can't turn off malloc stack logging because it was not enabled.\n",
      "wandb-core(98170) MallocStackLogging: can't turn off malloc stack logging because it was not enabled.\n",
      "wandb-core(98184) MallocStackLogging: can't turn off malloc stack logging because it was not enabled.\n",
      "wandb-core(98260) MallocStackLogging: can't turn off malloc stack logging because it was not enabled.\n",
      "wandb-core(98452) MallocStackLogging: can't turn off malloc stack logging because it was not enabled.\n",
      "wandb-core(98482) MallocStackLogging: can't turn off malloc stack logging because it was not enabled.\n",
      "wandb-core(98716) MallocStackLogging: can't turn off malloc stack logging because it was not enabled.\n",
      "wandb-core(98744) MallocStackLogging: can't turn off malloc stack logging because it was not enabled.\n",
      "wandb-core(98767) MallocStackLogging: can't turn off malloc stack logging because it was not enabled.\n",
      "wandb-core(98775) MallocStackLogging: can't turn off malloc stack logging because it was not enabled.\n",
      "wandb-core(98944) MallocStackLogging: can't turn off malloc stack logging because it was not enabled.\n"
     ]
    },
    {
     "name": "stdout",
     "output_type": "stream",
     "text": [
      "Epoch 1, Batch 1000, Loss: 0.3606\n"
     ]
    },
    {
     "name": "stderr",
     "output_type": "stream",
     "text": [
      "wandb-core(98961) MallocStackLogging: can't turn off malloc stack logging because it was not enabled.\n",
      "wandb-core(98980) MallocStackLogging: can't turn off malloc stack logging because it was not enabled.\n",
      "wandb-core(99082) MallocStackLogging: can't turn off malloc stack logging because it was not enabled.\n",
      "wandb-core(99092) MallocStackLogging: can't turn off malloc stack logging because it was not enabled.\n",
      "wandb-core(99153) MallocStackLogging: can't turn off malloc stack logging because it was not enabled.\n",
      "wandb-core(99226) MallocStackLogging: can't turn off malloc stack logging because it was not enabled.\n",
      "wandb-core(99272) MallocStackLogging: can't turn off malloc stack logging because it was not enabled.\n",
      "wandb-core(99286) MallocStackLogging: can't turn off malloc stack logging because it was not enabled.\n",
      "wandb-core(99300) MallocStackLogging: can't turn off malloc stack logging because it was not enabled.\n",
      "wandb-core(99343) MallocStackLogging: can't turn off malloc stack logging because it was not enabled.\n",
      "wandb-core(99382) MallocStackLogging: can't turn off malloc stack logging because it was not enabled.\n",
      "wandb-core(99390) MallocStackLogging: can't turn off malloc stack logging because it was not enabled.\n",
      "wandb-core(99561) MallocStackLogging: can't turn off malloc stack logging because it was not enabled.\n",
      "wandb-core(99814) MallocStackLogging: can't turn off malloc stack logging because it was not enabled.\n",
      "wandb-core(99836) MallocStackLogging: can't turn off malloc stack logging because it was not enabled.\n",
      "wandb-core(99840) MallocStackLogging: can't turn off malloc stack logging because it was not enabled.\n",
      "wandb-core(99845) MallocStackLogging: can't turn off malloc stack logging because it was not enabled.\n",
      "wandb-core(99851) MallocStackLogging: can't turn off malloc stack logging because it was not enabled.\n",
      "wandb-core(99888) MallocStackLogging: can't turn off malloc stack logging because it was not enabled.\n",
      "wandb-core(99945) MallocStackLogging: can't turn off malloc stack logging because it was not enabled.\n",
      "wandb-core(183) MallocStackLogging: can't turn off malloc stack logging because it was not enabled.\n",
      "wandb-core(490) MallocStackLogging: can't turn off malloc stack logging because it was not enabled.\n"
     ]
    },
    {
     "name": "stdout",
     "output_type": "stream",
     "text": [
      "Epoch 1, Batch 1100, Loss: 0.3932\n"
     ]
    },
    {
     "name": "stderr",
     "output_type": "stream",
     "text": [
      "wandb-core(597) MallocStackLogging: can't turn off malloc stack logging because it was not enabled.\n",
      "wandb-core(626) MallocStackLogging: can't turn off malloc stack logging because it was not enabled.\n",
      "wandb-core(710) MallocStackLogging: can't turn off malloc stack logging because it was not enabled.\n",
      "wandb-core(780) MallocStackLogging: can't turn off malloc stack logging because it was not enabled.\n",
      "wandb-core(857) MallocStackLogging: can't turn off malloc stack logging because it was not enabled.\n",
      "wandb-core(930) MallocStackLogging: can't turn off malloc stack logging because it was not enabled.\n",
      "wandb-core(943) MallocStackLogging: can't turn off malloc stack logging because it was not enabled.\n",
      "wandb-core(965) MallocStackLogging: can't turn off malloc stack logging because it was not enabled.\n",
      "wandb-core(1001) MallocStackLogging: can't turn off malloc stack logging because it was not enabled.\n",
      "wandb-core(1015) MallocStackLogging: can't turn off malloc stack logging because it was not enabled.\n",
      "wandb-core(1032) MallocStackLogging: can't turn off malloc stack logging because it was not enabled.\n",
      "wandb-core(1037) MallocStackLogging: can't turn off malloc stack logging because it was not enabled.\n",
      "wandb-core(1045) MallocStackLogging: can't turn off malloc stack logging because it was not enabled.\n",
      "wandb-core(1114) MallocStackLogging: can't turn off malloc stack logging because it was not enabled.\n",
      "wandb-core(1130) MallocStackLogging: can't turn off malloc stack logging because it was not enabled.\n",
      "wandb-core(1139) MallocStackLogging: can't turn off malloc stack logging because it was not enabled.\n",
      "wandb-core(1240) MallocStackLogging: can't turn off malloc stack logging because it was not enabled.\n",
      "wandb-core(1304) MallocStackLogging: can't turn off malloc stack logging because it was not enabled.\n",
      "wandb-core(1326) MallocStackLogging: can't turn off malloc stack logging because it was not enabled.\n",
      "wandb-core(1343) MallocStackLogging: can't turn off malloc stack logging because it was not enabled.\n",
      "wandb-core(1351) MallocStackLogging: can't turn off malloc stack logging because it was not enabled.\n",
      "wandb-core(1533) MallocStackLogging: can't turn off malloc stack logging because it was not enabled.\n",
      "wandb-core(1571) MallocStackLogging: can't turn off malloc stack logging because it was not enabled.\n",
      "wandb-core(1578) MallocStackLogging: can't turn off malloc stack logging because it was not enabled.\n",
      "wandb-core(1670) MallocStackLogging: can't turn off malloc stack logging because it was not enabled.\n",
      "wandb-core(1722) MallocStackLogging: can't turn off malloc stack logging because it was not enabled.\n",
      "wandb-core(1788) MallocStackLogging: can't turn off malloc stack logging because it was not enabled.\n",
      "wandb-core(1793) MallocStackLogging: can't turn off malloc stack logging because it was not enabled.\n",
      "wandb-core(1809) MallocStackLogging: can't turn off malloc stack logging because it was not enabled.\n",
      "wandb-core(1928) MallocStackLogging: can't turn off malloc stack logging because it was not enabled.\n",
      "wandb-core(1991) MallocStackLogging: can't turn off malloc stack logging because it was not enabled.\n",
      "wandb-core(1995) MallocStackLogging: can't turn off malloc stack logging because it was not enabled.\n",
      "wandb-core(2000) MallocStackLogging: can't turn off malloc stack logging because it was not enabled.\n",
      "wandb-core(2007) MallocStackLogging: can't turn off malloc stack logging because it was not enabled.\n",
      "wandb-core(2014) MallocStackLogging: can't turn off malloc stack logging because it was not enabled.\n"
     ]
    },
    {
     "name": "stdout",
     "output_type": "stream",
     "text": [
      "Epoch 1, Batch 1200, Loss: 0.3150\n"
     ]
    },
    {
     "name": "stderr",
     "output_type": "stream",
     "text": [
      "wandb-core(2155) MallocStackLogging: can't turn off malloc stack logging because it was not enabled.\n",
      "wandb-core(2379) MallocStackLogging: can't turn off malloc stack logging because it was not enabled.\n",
      "wandb-core(2445) MallocStackLogging: can't turn off malloc stack logging because it was not enabled.\n",
      "wandb-core(2458) MallocStackLogging: can't turn off malloc stack logging because it was not enabled.\n",
      "wandb-core(2469) MallocStackLogging: can't turn off malloc stack logging because it was not enabled.\n",
      "wandb-core(2525) MallocStackLogging: can't turn off malloc stack logging because it was not enabled.\n",
      "wandb-core(2731) MallocStackLogging: can't turn off malloc stack logging because it was not enabled.\n",
      "wandb-core(3084) MallocStackLogging: can't turn off malloc stack logging because it was not enabled.\n",
      "wandb-core(3628) MallocStackLogging: can't turn off malloc stack logging because it was not enabled.\n",
      "wandb-core(3666) MallocStackLogging: can't turn off malloc stack logging because it was not enabled.\n",
      "wandb-core(3670) MallocStackLogging: can't turn off malloc stack logging because it was not enabled.\n",
      "wandb-core(3849) MallocStackLogging: can't turn off malloc stack logging because it was not enabled.\n",
      "wandb-core(4166) MallocStackLogging: can't turn off malloc stack logging because it was not enabled.\n",
      "wandb-core(4177) MallocStackLogging: can't turn off malloc stack logging because it was not enabled.\n"
     ]
    }
   ],
   "source": [
    "# Move model to MPS device if available, otherwise CPU\n",
    "model = get_model().to(device)\n",
    "\n",
    "# Set up optimizer\n",
    "optimizer = torch.optim.AdamW(model.parameters(), lr=LEARNING_RATE)\n",
    "\n",
    "wandb.init(\n",
    "    project=\"log-analysis-pythia\",\n",
    "    config={\n",
    "        \"batch_size\": BATCH_SIZE,\n",
    "        \"max_length\": MAX_LENGTH,\n",
    "        \"learning_rate\": LEARNING_RATE,\n",
    "        \"epochs\": NUM_EPOCHS,\n",
    "        \"model\": \"pythia-14m\",  \n",
    "    }\n",
    ")\n",
    "\n",
    "# Training loop\n",
    "global_step = 0\n",
    "model.train()\n",
    "for epoch in range(NUM_EPOCHS):\n",
    "    total_loss = 0\n",
    "    for batch_idx, batch in enumerate(dataloader):\n",
    "        \n",
    "        if batch_idx % 100 == 0:\n",
    "            clear_memory()\n",
    "\n",
    "        # Move batch to device\n",
    "        input_ids = batch['input_ids'].to(device)\n",
    "        attention_mask = batch['attention_mask'].to(device)\n",
    "        \n",
    "        # Forward pass\n",
    "        outputs = model(\n",
    "            input_ids=input_ids,\n",
    "            attention_mask=attention_mask,\n",
    "            labels=input_ids  # For causal language modeling\n",
    "        )\n",
    "        \n",
    "        loss = outputs.loss\n",
    "        total_loss += loss.item()\n",
    "        \n",
    "        # Backward pass\n",
    "        optimizer.zero_grad()\n",
    "        loss.backward()\n",
    "        optimizer.step()\n",
    "\n",
    "        # Print progress every 100 batches\n",
    "        if batch_idx % 100 == 0:\n",
    "            print(f\"Epoch {epoch+1}, Batch {batch_idx}, Loss: {loss.item():.4f}\")\n",
    "\n",
    "        wandb.log({\n",
    "            \"train/batch_loss\": loss.item(),\n",
    "            \"train/epoch\": epoch + 1,\n",
    "            \"train/batch\": batch_idx,\n",
    "            **get_gpu_memory_metrics()\n",
    "        }, step=global_step)\n",
    "        global_step += 1\n",
    "    avg_loss = total_loss / len(dataloader)\n",
    "    print(f\"Epoch {epoch+1} complete. Average loss: {avg_loss:.4f}\")\n",
    "    wandb.log({\n",
    "        \"epoch_avg_loss\": avg_loss,\n",
    "        \"epoch\": epoch + 1,\n",
    "    })"
   ]
  },
  {
   "cell_type": "code",
   "execution_count": 30,
   "metadata": {},
   "outputs": [
    {
     "data": {
      "text/plain": [
       "{'system/mps_memory_allocated_gb': 1.316429853439331,\n",
       " 'system/mps_memory_reserved_gb': 16.292190551757812}"
      ]
     },
     "execution_count": 30,
     "metadata": {},
     "output_type": "execute_result"
    }
   ],
   "source": [
    "get_gpu_memory_metrics()\n"
   ]
  },
  {
   "cell_type": "code",
   "execution_count": 55,
   "metadata": {},
   "outputs": [
    {
     "name": "stderr",
     "output_type": "stream",
     "text": [
      "/var/folders/1w/njpw08_93h73169nbj9b9z700000gp/T/ipykernel_95750/3605613730.py:1: DeprecationWarning: __array__ implementation doesn't accept a copy keyword, so passing copy=False failed. __array__ must implement 'dtype' and 'copy' keyword arguments.\n",
      "  output_k = np.array(input_ids.cpu())\n"
     ]
    },
    {
     "data": {
      "text/plain": [
       "np.int64(742)"
      ]
     },
     "execution_count": 55,
     "metadata": {},
     "output_type": "execute_result"
    }
   ],
   "source": [
    "output_k = np.array(input_ids.cpu())\n",
    "sum(sum(output_k == 0))"
   ]
  },
  {
   "cell_type": "code",
   "execution_count": 56,
   "metadata": {},
   "outputs": [],
   "source": [
    "tokenizer.pad_token_id"
   ]
  },
  {
   "cell_type": "code",
   "execution_count": 57,
   "metadata": {},
   "outputs": [
    {
     "data": {
      "text/plain": [
       "0"
      ]
     },
     "execution_count": 57,
     "metadata": {},
     "output_type": "execute_result"
    }
   ],
   "source": [
    "tokenizer.eos_token_id"
   ]
  },
  {
   "cell_type": "code",
   "execution_count": null,
   "metadata": {},
   "outputs": [],
   "source": []
  }
 ],
 "metadata": {
  "kernelspec": {
   "display_name": "venv",
   "language": "python",
   "name": "python3"
  },
  "language_info": {
   "codemirror_mode": {
    "name": "ipython",
    "version": 3
   },
   "file_extension": ".py",
   "mimetype": "text/x-python",
   "name": "python",
   "nbconvert_exporter": "python",
   "pygments_lexer": "ipython3",
   "version": "3.11.10"
  }
 },
 "nbformat": 4,
 "nbformat_minor": 2
}
